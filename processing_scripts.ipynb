{
 "cells": [
  {
   "cell_type": "markdown",
   "metadata": {},
   "source": [
    "# OSS4GEO Scripts for semantic search and topic clustering\n",
    "\n",
    "# https://github.com/do-me/oss4geo-semantic\n",
    "\n",
    "## Mine GitHub Repo information"
   ]
  },
  {
   "cell_type": "code",
   "execution_count": null,
   "metadata": {},
   "outputs": [],
   "source": [
    "!pip install pandarallel pandas polars tqdm requests FlagEmbedding semantic_text_splitter"
   ]
  },
  {
   "cell_type": "code",
   "execution_count": 1,
   "metadata": {},
   "outputs": [],
   "source": [
    "# Get your Github token and add here \n",
    "\n",
    "github_token = \"YOUR_TOKEN\""
   ]
  },
  {
   "cell_type": "markdown",
   "metadata": {},
   "source": [
    "## Download script\n",
    "\n",
    "Note that you cannot simply use the main branch always as some legacy projects still use master or other so we need to query the API and get that infomrmation first. After, we can query the readme from the right branch."
   ]
  },
  {
   "cell_type": "code",
   "execution_count": 2,
   "metadata": {},
   "outputs": [
    {
     "data": {
      "text/plain": [
       "0    Linux kernel\\n============\\n\\nThere are severa...\n",
       "1    # Visual Studio Code - Open Source (\"Code - OS...\n",
       "dtype: object"
      ]
     },
     "execution_count": 2,
     "metadata": {},
     "output_type": "execute_result"
    }
   ],
   "source": [
    "import requests\n",
    "import pandas as pd\n",
    "\n",
    "def download_github_readme(repo, github_token=None):\n",
    "    \"\"\"\n",
    "    Downloads the README file from a GitHub repository.\n",
    "\n",
    "    Parameters:\n",
    "        repo (str): GitHub repository in the format 'owner/repo_name'.\n",
    "        github_token (str, optional): GitHub Personal Access Token for authentication (optional but recommended for higher rate limits).\n",
    "\n",
    "    Returns:\n",
    "        str: README content or an error message.\n",
    "    \"\"\"\n",
    "    headers = {}\n",
    "    if github_token:\n",
    "        headers = {'Authorization': f'token {github_token}'}\n",
    "    \n",
    "    try:\n",
    "        owner, repo_name = repo.split('/')\n",
    "        url = f'https://api.github.com/repos/{owner}/{repo_name}/readme'\n",
    "        \n",
    "        response = requests.get(url, headers=headers)\n",
    "        \n",
    "        if response.status_code == 200:\n",
    "            try:\n",
    "                readme_info = response.json()\n",
    "                download_url = readme_info['download_url']\n",
    "                \n",
    "                readme_content = requests.get(download_url).text\n",
    "                return readme_content\n",
    "            except Exception as e:\n",
    "                print(f\"Error processing README for {repo}: {e}\")\n",
    "                return \"\"\n",
    "        else:\n",
    "            print(f\"Error: {response.status_code} - {response.json().get('message', 'Unknown error')} for {repo}\")\n",
    "            return \"\"\n",
    "    \n",
    "    except Exception as e:\n",
    "        print(f\"Error parsing repository {repo}: {e}\")\n",
    "        return \"\"\n",
    "\n",
    "# Example usage with pandas, tests\n",
    "repos = pd.Series([\n",
    "    \"torvalds/linux\",\n",
    "    \"microsoft/vscode\",\n",
    "])\n",
    "\n",
    "# Apply the function to the pandas Series\n",
    "readmes = repos.apply(download_github_readme, github_token=github_token)\n",
    "readmes\n"
   ]
  },
  {
   "cell_type": "code",
   "execution_count": null,
   "metadata": {},
   "outputs": [],
   "source": []
  },
  {
   "cell_type": "markdown",
   "metadata": {},
   "source": [
    "# Manually adding the repos here that are logged to the console when opening https://www.oss4geo.org/\n",
    "\n",
    "Could also scrape it from the webpage of course."
   ]
  },
  {
   "cell_type": "code",
   "execution_count": 3,
   "metadata": {},
   "outputs": [
    {
     "name": "stdout",
     "output_type": "stream",
     "text": [
      "INFO: Pandarallel will run on 16 workers.\n",
      "INFO: Pandarallel will use standard multiprocessing data transfer (pipe) to transfer data between the main process and workers.\n"
     ]
    },
    {
     "data": {
      "application/vnd.jupyter.widget-view+json": {
       "model_id": "d5ead2d809f4426aa123538b94dd4e29",
       "version_major": 2,
       "version_minor": 0
      },
      "text/plain": [
       "VBox(children=(HBox(children=(IntProgress(value=0, description='0.00%', max=23), Label(value='0 / 23'))), HBox…"
      ]
     },
     "metadata": {},
     "output_type": "display_data"
    },
    {
     "name": "stdout",
     "output_type": "stream",
     "text": [
      "Error: 404 - Not Found for cran/rgdal\n",
      "Error: 404 - Not Found for py3dtiles/py3dtiles\n",
      "Error: 404 - Not Found for davidfrantz / force\n",
      "Error: 404 - Not Found for geoharmonizer_inea/eumap\n",
      "Error parsing repository saga-gis: not enough values to unpack (expected 2, got 1)\n",
      "Error: 404 - Not Found for mundialis / sadasadam\n"
     ]
    }
   ],
   "source": [
    "import pandas as pd \n",
    "from tqdm import tqdm \n",
    "tqdm.pandas()\n",
    "from pandarallel import pandarallel\n",
    "\n",
    "# mining the repos in parallel with all available cores (1 worker per cpu, works with GitHub token, does not without auth)\n",
    "pandarallel.initialize(progress_bar=True)\n",
    "\n",
    "# Example usage\n",
    "repos = [\n",
    "    \"3dcitydb/3dcitydb\",\n",
    "    \"3liz/lizmap-web-client\",\n",
    "    \"52North/helgoland\",\n",
    "    \"52North/IlwisCore\",\n",
    "    \"52North/SOS\",\n",
    "    \"actinia-org/actinia-core\",\n",
    "    \"ahhz/raster\",\n",
    "    \"airbusgeo/cogger\",\n",
    "    \"Anagraph/yogrt\",\n",
    "    \"apache/calcite\",\n",
    "    \"apache/doris\",\n",
    "    \"apache/echarts\",\n",
    "    \"apache/incubator-baremaps\",\n",
    "    \"apache/sedona\",\n",
    "    \"apache/sis\",\n",
    "    \"apache/superset\",\n",
    "    \"appelmar/gdalcubes\",\n",
    "    \"arangodb/arangodb\",\n",
    "    \"aseldawy/spatialhadoop2\",\n",
    "    \"axismaps/colorbrewer\",\n",
    "    \"azavea/raster-vision\",\n",
    "    \"birgander2/PyRAT\",\n",
    "    \"bjornd/jvectormap\",\n",
    "    \"bjornharrtell/jsts\",\n",
    "    \"boostorg/geometry\",\n",
    "    \"cambecc/earth\",\n",
    "    \"cambecc/grib2json\",\n",
    "    \"CartoDB/bigmetadata\",\n",
    "    \"CartoDB/carto.js\",\n",
    "    \"CartoDB/cartodb\",\n",
    "    \"CartoDB/cartodb-postgresql\",\n",
    "    \"CartoDB/cartoframes\",\n",
    "    \"cartographer-project/cartographer\",\n",
    "    \"cartographer-project/cartographer_ros\",\n",
    "    \"CCI-Tools/cate-desktop\",\n",
    "    \"CesiumGS/cesium\",\n",
    "    \"cga-harvard/geonode\",\n",
    "    \"CGAL/cgal\",\n",
    "    \"cgre-aachen/gemgis\",\n",
    "    \"cgre-aachen/gempy\",\n",
    "    \"chelm/mbtiles-server\",\n",
    "    \"chrismattmann/lucene-geo-gazetteer\",\n",
    "    \"citusdata/citus\",\n",
    "    \"ckan/ckan\",\n",
    "    \"commaai/laika\",\n",
    "    \"connormanning/entwine\",\n",
    "    \"CosmiQ/solaris\",\n",
    "    \"CosmiQ/yolt\",\n",
    "    \"cran/rgdal\",\n",
    "    \"d3/d3\",\n",
    "    \"DanBloomberg/leptonica\",\n",
    "    \"davidbyttow/govips\",\n",
    "    \"davidfrantz / force\",\n",
    "    \"dcherian/ncview\",\n",
    "    \"deegree/deegree3\",\n",
    "    \"developmentseed/geolambda\",\n",
    "    \"developmentseed/label-maker\",\n",
    "    \"developmentseed/landsat-util\",\n",
    "    \"developmentseed/lonboard\",\n",
    "    \"developmentseed/morecantile\",\n",
    "    \"developmentseed/sentinel-util\",\n",
    "    \"developmentseed/skynet-train\",\n",
    "    \"developmentseed/tifeatures\",\n",
    "    \"developmentseed/timvt\",\n",
    "    \"developmentseed/tipg\",\n",
    "    \"dmsl/anyplace\",\n",
    "    \"dnchayes/MB-System\",\n",
    "    \"DOI-USGS/ghsc-esi-shakemap\",\n",
    "    \"domlysz/BlenderGIS\",\n",
    "    \"drolbr/Overpass-API\",\n",
    "    \"dtarb/TauDEM\",\n",
    "    \"dwins/geoscript.scala\",\n",
    "    \"dwins/mapnik2geotools\",\n",
    "    \"e-sensing/sits\",\n",
    "    \"ecmwf/eccodes\",\n",
    "    \"eco-hydro/TIMESAT.R\",\n",
    "    \"elastic/elasticsearch\",\n",
    "    \"emeeks/d3-carto-map\",\n",
    "    \"eoxc/eoxc\",\n",
    "    \"EOxServer/eoxserver\",\n",
    "    \"Esri/cedar\",\n",
    "    \"Esri/geoportal-server-catalog\",\n",
    "    \"Esri/wind-js\",\n",
    "    \"eurostat/eurostat-map.js\",\n",
    "    \"eurostat/GridMaker\",\n",
    "    \"eurostat/JGiscoTools\",\n",
    "    \"Factual/geo\",\n",
    "    \"fatiando/verde\",\n",
    "    \"fegyi001/mangol\",\n",
    "    \"FreeCAD/FreeCAD\",\n",
    "    \"Gaia3D/mago3d\",\n",
    "    \"GenericMappingTools/gmt\",\n",
    "    \"GeoDaCenter/geoda\",\n",
    "    \"GeoDaCenter/GeoDaSpace\",\n",
    "    \"Geodan/mapbox-3dtiles\",\n",
    "    \"Geodan/pg2b3dm\",\n",
    "    \"geoext/geoext\",\n",
    "    \"geographika/mappyfile\",\n",
    "    \"geoharmonizer_inea/eumap\",\n",
    "    \"GeoJSON-Net/GeoJSON.Net\",\n",
    "    \"geoman-io/leaflet-geoman\",\n",
    "    \"geomapfish/getting_started\",\n",
    "    \"Geomatys/examind-community\",\n",
    "    \"geonetwork/core-geonetwork\",\n",
    "    \"GeoNode/geonode\",\n",
    "    \"geopandas/geopandas\",\n",
    "    \"geopaparazzi/geopaparazzi\",\n",
    "    \"geopaparazzi/smash\",\n",
    "    \"geopython/GeoHealthCheck\",\n",
    "    \"geopython/mapslicer\",\n",
    "    \"geopython/OWSLib\",\n",
    "    \"geopython/pycsw\",\n",
    "    \"geopython/pygeometa\",\n",
    "    \"geopython/pywps\",\n",
    "    \"georchestra/georchestra\",\n",
    "    \"geoscript/geoscript-js\",\n",
    "    \"geoserver/geofence\",\n",
    "    \"geoserver/geoserver\",\n",
    "    \"geoserver/geoserver-cloud\",\n",
    "    \"geosolutions-it/geostore\",\n",
    "    \"geosolutions-it/imageio-ext\",\n",
    "    \"geosolutions-it/MapStore2\",\n",
    "    \"GeoStat-Framework/GSTools\",\n",
    "    \"GeoStat-Framework/PyKrige\",\n",
    "    \"GeostatsGuy/GeostatsPy\",\n",
    "    \"GeoTIFF/geoblaze\",\n",
    "    \"GeoTIFF/geotiff.io\",\n",
    "    \"geotiffjs/geotiff.js\",\n",
    "    \"geotools/geotools\",\n",
    "    \"GeoWebCache/geowebcache\",\n",
    "    \"GeoWebCache/gwc-release\",\n",
    "    \"Geoyi/pixel-decoder\",\n",
    "    \"gina-alaska/dans-gdal-scripts\",\n",
    "    \"girder/girder\",\n",
    "    \"GIScience/openrouteservice\",\n",
    "    \"gisgraphy/gisgraphy\",\n",
    "    \"gisquick/gisquick\",\n",
    "    \"gltn/stdm\",\n",
    "    \"gnss-sdr/gnss-sdr\",\n",
    "    \"google/earthenterprise\",\n",
    "    \"graphhopper/graphhopper\",\n",
    "    \"grimzy/laravel-mysql-spatial\",\n",
    "    \"gwaldron/osgearth\",\n",
    "    \"gzuidhof/zarr.js\",\n",
    "    \"halestudio/hale\",\n",
    "    \"harsha2010/magellan\",\n",
    "    \"HDFGroup/hdf5\",\n",
    "    \"heremaps/harp.gl\",\n",
    "    \"hms-dbmi/viv\",\n",
    "    \"hslayers/hslayers-ng\",\n",
    "    \"huidian200803/vterrain-VTP-vterrain.org\",\n",
    "    \"Image-Py/imagepy\",\n",
    "    \"ImageMagick/ImageMagick\",\n",
    "    \"InsightSoftwareConsortium/ITK\",\n",
    "    \"iTowns/itowns\",\n",
    "    \"JamesLMilner/terra-draw\",\n",
    "    \"jblindsay/whitebox-tools\",\n",
    "    \"jjrom/itag\",\n",
    "    \"jjrom/resto\",\n",
    "    \"JuliaGeo/GeoInterface.jl\",\n",
    "    \"kadas-albireo/kadas-albireo\",\n",
    "    \"Kitware/ParaView\",\n",
    "    \"Kitware/vtk-js\",\n",
    "    \"KNMI/adaguc-server\",\n",
    "    \"KNMI/adaguc-viewer\",\n",
    "    \"komoot/photon\",\n",
    "    \"koopjs/FeatureServer\",\n",
    "    \"koopjs/koop\",\n",
    "    \"LAStools/LAStools\",\n",
    "    \"Leaflet/Leaflet\",\n",
    "    \"libgeos/geos\",\n",
    "    \"libLAS/libLAS\",\n",
    "    \"LibreCAD/LibreCAD\",\n",
    "    \"libspatialindex/libspatialindex\",\n",
    "    \"libvips/libvips\",\n",
    "    \"locationtech/geogig\",\n",
    "    \"locationtech/geomesa\",\n",
    "    \"locationtech/geotrellis\",\n",
    "    \"locationtech/geowave\",\n",
    "    \"locationtech/jts\",\n",
    "    \"locationtech/udig-platform\",\n",
    "    \"lucadelu/pyModis\",\n",
    "    \"mapbox/geojson.io\",\n",
    "    \"mapbox/Hecate\",\n",
    "    \"mapbox/mapbox-gl-js\",\n",
    "    \"mapbox/mapbox-gl-native\",\n",
    "    \"mapbox/mapboxgl-jupyter\",\n",
    "    \"mapbox/node-mbtiles\",\n",
    "    \"mapbox/osmcha-frontend\",\n",
    "    \"mapbox/robosat\",\n",
    "    \"mapbox/tile-reduce\",\n",
    "    \"mapbox/tilelive\",\n",
    "    \"mapcentia/geocloud2\",\n",
    "    \"mapfish/mapfish-print\",\n",
    "    \"mapillary/mapillary-js\",\n",
    "    \"mapillary/OpenSfM\",\n",
    "    \"maplibre/maplibre-gl-js\",\n",
    "    \"maplibre/maplibre-native\",\n",
    "    \"maplibre/martin\",\n",
    "    \"mapmint/mapmint\",\n",
    "    \"mapnik/mapnik\",\n",
    "    \"mapproxy/mapproxy\",\n",
    "    \"maproulette/maproulette3\",\n",
    "    \"MapServer/mapcache\",\n",
    "    \"MapServer/MapServer\",\n",
    "    \"MapServer/tinyows\",\n",
    "    \"maptalks/maptalks.js\",\n",
    "    \"maputnik/editor\",\n",
    "    \"MapWindow/MapWindow5\",\n",
    "    \"MatanYadaev/laravel-eloquent-spatial\",\n",
    "    \"matplotlib/matplotlib\",\n",
    "    \"mbloch/mapshaper\",\n",
    "    \"melowntech/vts-browser-js\",\n",
    "    \"MerginMaps/mergin\",\n",
    "    \"microsoft/torchgeo\",\n",
    "    \"MITK/MITK\",\n",
    "    \"mkeller3/FastGeospatial\",\n",
    "    \"mmaelicke/scikit-gstat\",\n",
    "    \"MobilityDB/MobilityDB\",\n",
    "    \"MODFLOW-USGS/modflow6\",\n",
    "    \"mojodna/tessera\",\n",
    "    \"mongodb/mongo\",\n",
    "    \"movingpandas/movingpandas\",\n",
    "    \"mrdoob/three.js\",\n",
    "    \"mundialis / sadasadam\",\n",
    "    \"nasa-gibs/onearth\",\n",
    "    \"nasa-gibs/worldview\",\n",
    "    \"nasa-jpl-memex/GeoParser\",\n",
    "    \"nasa/cumulus-dashboard\",\n",
    "    \"neocarto/bertin\",\n",
    "    \"NetTopologySuite/NetTopologySuite\",\n",
    "    \"neveldo/jQuery-Mapael\",\n",
    "    \"nextgis/android_gisapp\",\n",
    "    \"nextgis/android_maplib\",\n",
    "    \"ngageoint/hootenanny\",\n",
    "    \"ngageoint/mrgeo\",\n",
    "    \"nsidc/earthaccess\",\n",
    "    \"opencv/opencv\",\n",
    "    \"OpenDroneMap/ODM\",\n",
    "    \"OpenDroneMap/WebODM\",\n",
    "    \"OpendTect/OpendTect\",\n",
    "    \"OpenGeoscience/geojs\",\n",
    "    \"OpenGeoscience/geonotebook\",\n",
    "    \"OpenGeoVis/PVGeo\",\n",
    "    \"opengisch/QField\",\n",
    "    \"openglobus/openglobus\",\n",
    "    \"openjump-gis/openjump\",\n",
    "    \"openlayers/openlayers\",\n",
    "    \"OpenOrienteering/mapper\",\n",
    "    \"openscenegraph/OpenSceneGraph\",\n",
    "    \"openstreetmap/iD\",\n",
    "    \"openstreetmap/osm2pgsql\",\n",
    "    \"openvenues/libpostal\",\n",
    "    \"orbisgis/h2gis\",\n",
    "    \"orfeotoolbox/OTB\",\n",
    "    \"orientechnologies/orientdb\",\n",
    "    \"OSGeo/gdal\",\n",
    "    \"OSGeo/grass\",\n",
    "    \"OSGeo/libgeotiff\",\n",
    "    \"OSGeo/PROJ\",\n",
    "    \"Oslandia/lopocs\",\n",
    "    \"Oslandia/SFCGAL\",\n",
    "    \"osm-search/Nominatim\",\n",
    "    \"OSMBuildings/OSMBuildings\",\n",
    "    \"osmcode/pyosmium\",\n",
    "    \"ossimlabs/ossim\",\n",
    "    \"PDAL/PDAL\",\n",
    "    \"pelias/pelias\",\n",
    "    \"pemn/vtk_triangulate_points\",\n",
    "    \"pghydro/pghydro\",\n",
    "    \"pgpointcloud/pointcloud\",\n",
    "    \"pgRouting/osm2pgrouting\",\n",
    "    \"pgRouting/pgrouting\",\n",
    "    \"phayes/geoPHP\",\n",
    "    \"pka/qgpkg\",\n",
    "    \"placemark/placemark\",\n",
    "    \"postgis/postgis\",\n",
    "    \"potree/potree\",\n",
    "    \"proj4js/proj4js\",\n",
    "    \"Project-OSRM/osrm-backend\",\n",
    "    \"py3dtiles/py3dtiles\",\n",
    "    \"pyproj4/pyproj\",\n",
    "    \"pysal/mapclassify\",\n",
    "    \"pysal/pysal\",\n",
    "    \"pysal/segregation\",\n",
    "    \"pysal/spopt\",\n",
    "    \"pysal/tobler\",\n",
    "    \"qcad/qcad\",\n",
    "    \"qgis/QGIS\",\n",
    "    \"qgis/qwc2\",\n",
    "    \"questdb/questdb\",\n",
    "    \"radiantearth/stac-api-spec\",\n",
    "    \"radiantearth/stac-browser\",\n",
    "    \"rafaqz/Rasters.jl\",\n",
    "    \"ranghetti/sen2r\",\n",
    "    \"rasterio/rasterio\",\n",
    "    \"Reading-eScience-Centre/edal-java\",\n",
    "    \"Reading-eScience-Centre/ncwms\",\n",
    "    \"rhansson/geotuple\",\n",
    "    \"riatelab/magrit\",\n",
    "    \"ROGUE-JCTD/Arbiter-Android\",\n",
    "    \"ROGUE-JCTD/MapLoom\",\n",
    "    \"ROGUE-JCTD/rogue_geonode\",\n",
    "    \"ropensci/MODIStsp\",\n",
    "    \"rspatial/raster\",\n",
    "    \"rstudio/rstudio\",\n",
    "    \"rstudio/shiny\",\n",
    "    \"saga-gis\",\n",
    "    \"sahana/eden\",\n",
    "    \"sat-utils/sat-api\",\n",
    "    \"schollz/find\",\n",
    "    \"scikit-image/scikit-image\",\n",
    "    \"SciTools/cartopy\",\n",
    "    \"SciTools/iris\",\n",
    "    \"sduclos/S52\",\n",
    "    \"semiautomaticgit/SemiAutomaticClassificationPlugin\",\n",
    "    \"senbox-org/s1tbx\",\n",
    "    \"sentinel-hub/eo-learn\",\n",
    "    \"sentinel-hub/sentinelhub-py\",\n",
    "    \"sentinelsat/sentinelsat\",\n",
    "    \"shapely/shapely\",\n",
    "    \"SharpMap/SharpMap\",\n",
    "    \"simplegeo/polymaps\",\n",
    "    \"sldeditor/sldeditor\",\n",
    "    \"Slicer/Slicer\",\n",
    "    \"sogelink-research/ctod\",\n",
    "    \"stac-utils/pgstac\",\n",
    "    \"stac-utils/stac-fastapi\",\n",
    "    \"stamen/modestmaps-js\",\n",
    "    \"STEMLab/InFactory\",\n",
    "    \"SuperElastix/elastix\",\n",
    "    \"t-rex-tileserver/t-rex\",\n",
    "    \"tangrams/tangram\",\n",
    "    \"terrestris/shogun-core\",\n",
    "    \"TerriaJS/terriajs\",\n",
    "    \"tesseract-ocr/tesseract\",\n",
    "    \"tidwall/tile38\",\n",
    "    \"TileDB-Inc/TileDB\",\n",
    "    \"tilemill-project/tilemill\",\n",
    "    \"TileStache/TileStache\",\n",
    "    \"timescale/timescaledb\",\n",
    "    \"TNOCS/csWeb-tile\",\n",
    "    \"Toblerity/Fiona\",\n",
    "    \"Toblerity/rtree\",\n",
    "    \"tomojitakasu/RTKLIB\",\n",
    "    \"topojson/topojson\",\n",
    "    \"Turfjs/turf\",\n",
    "    \"tyrasd/overpass-turbo\",\n",
    "    \"uclouvain/openjpeg\",\n",
    "    \"UDST/vizicities\",\n",
    "    \"umap-project/umap\",\n",
    "    \"Unidata/IDV\",\n",
    "    \"Unidata/netcdf-c\",\n",
    "    \"Unidata/netcdf-java\",\n",
    "    \"Unidata/thredds\",\n",
    "    \"valhalla/valhalla\",\n",
    "    \"vega/vega\",\n",
    "    \"verma/plasio\",\n",
    "    \"visgl/deck.gl\",\n",
    "    \"VROOM-Project/vroom\",\n",
    "    \"webglearth/webglearth2\",\n",
    "    \"whamlyn/auralib\",\n",
    "    \"yaph/d3-geomap\",\n",
    "    \"yeesian/ArchGDAL.jl\",\n",
    "    \"zombodb/zombodb\",\n",
    "    \"ZOO-Project/ZOO-Project\"\n",
    "]\n",
    "\n",
    "df = pd.DataFrame(repos,columns=[\"Repo\"])\n",
    "df[\"Readme\"] = df[\"Repo\"].parallel_apply(download_github_readme, github_token=github_token)"
   ]
  },
  {
   "cell_type": "code",
   "execution_count": 5,
   "metadata": {},
   "outputs": [],
   "source": [
    "df[\"Readme_len\"] = df[\"Readme\"].apply(lambda x: len(x))\n",
    "df.to_parquet(\"readmes.parquet\")"
   ]
  },
  {
   "cell_type": "markdown",
   "metadata": {},
   "source": [
    "## Get the erroneous repos, is it errors or are they on GitLab maybe?"
   ]
  },
  {
   "cell_type": "code",
   "execution_count": 6,
   "metadata": {},
   "outputs": [
    {
     "data": {
      "text/html": [
       "<div>\n",
       "<style scoped>\n",
       "    .dataframe tbody tr th:only-of-type {\n",
       "        vertical-align: middle;\n",
       "    }\n",
       "\n",
       "    .dataframe tbody tr th {\n",
       "        vertical-align: top;\n",
       "    }\n",
       "\n",
       "    .dataframe thead th {\n",
       "        text-align: right;\n",
       "    }\n",
       "</style>\n",
       "<table border=\"1\" class=\"dataframe\">\n",
       "  <thead>\n",
       "    <tr style=\"text-align: right;\">\n",
       "      <th></th>\n",
       "      <th>Repo</th>\n",
       "      <th>Readme</th>\n",
       "      <th>Readme_len</th>\n",
       "    </tr>\n",
       "  </thead>\n",
       "  <tbody>\n",
       "    <tr>\n",
       "      <th>48</th>\n",
       "      <td>cran/rgdal</td>\n",
       "      <td></td>\n",
       "      <td>0</td>\n",
       "    </tr>\n",
       "    <tr>\n",
       "      <th>52</th>\n",
       "      <td>davidfrantz / force</td>\n",
       "      <td></td>\n",
       "      <td>0</td>\n",
       "    </tr>\n",
       "    <tr>\n",
       "      <th>98</th>\n",
       "      <td>geoharmonizer_inea/eumap</td>\n",
       "      <td></td>\n",
       "      <td>0</td>\n",
       "    </tr>\n",
       "    <tr>\n",
       "      <th>224</th>\n",
       "      <td>mundialis / sadasadam</td>\n",
       "      <td></td>\n",
       "      <td>0</td>\n",
       "    </tr>\n",
       "    <tr>\n",
       "      <th>280</th>\n",
       "      <td>py3dtiles/py3dtiles</td>\n",
       "      <td></td>\n",
       "      <td>0</td>\n",
       "    </tr>\n",
       "    <tr>\n",
       "      <th>307</th>\n",
       "      <td>saga-gis</td>\n",
       "      <td></td>\n",
       "      <td>0</td>\n",
       "    </tr>\n",
       "  </tbody>\n",
       "</table>\n",
       "</div>"
      ],
      "text/plain": [
       "                         Repo Readme  Readme_len\n",
       "48                 cran/rgdal                  0\n",
       "52        davidfrantz / force                  0\n",
       "98   geoharmonizer_inea/eumap                  0\n",
       "224     mundialis / sadasadam                  0\n",
       "280       py3dtiles/py3dtiles                  0\n",
       "307                  saga-gis                  0"
      ]
     },
     "execution_count": 6,
     "metadata": {},
     "output_type": "execute_result"
    }
   ],
   "source": [
    "df[df[\"Readme_len\"] == 0]"
   ]
  },
  {
   "cell_type": "code",
   "execution_count": 7,
   "metadata": {},
   "outputs": [],
   "source": [
    "# remove erroneous ones\n",
    "df = df[df[\"Readme_len\"] != 0]"
   ]
  },
  {
   "cell_type": "markdown",
   "metadata": {},
   "source": [
    "## Some repos have huge descriptions others have no description"
   ]
  },
  {
   "cell_type": "code",
   "execution_count": 9,
   "metadata": {},
   "outputs": [
    {
     "data": {
      "text/html": [
       "<div>\n",
       "<style scoped>\n",
       "    .dataframe tbody tr th:only-of-type {\n",
       "        vertical-align: middle;\n",
       "    }\n",
       "\n",
       "    .dataframe tbody tr th {\n",
       "        vertical-align: top;\n",
       "    }\n",
       "\n",
       "    .dataframe thead th {\n",
       "        text-align: right;\n",
       "    }\n",
       "</style>\n",
       "<table border=\"1\" class=\"dataframe\">\n",
       "  <thead>\n",
       "    <tr style=\"text-align: right;\">\n",
       "      <th></th>\n",
       "      <th>Repo</th>\n",
       "      <th>Readme</th>\n",
       "      <th>Readme_len</th>\n",
       "    </tr>\n",
       "  </thead>\n",
       "  <tbody>\n",
       "    <tr>\n",
       "      <th>90</th>\n",
       "      <td>Gaia3D/mago3d</td>\n",
       "      <td># mago3d</td>\n",
       "      <td>8</td>\n",
       "    </tr>\n",
       "    <tr>\n",
       "      <th>69</th>\n",
       "      <td>drolbr/Overpass-API</td>\n",
       "      <td>Please see\\nhttp://wiki.osm.org/wiki/Overpass_...</td>\n",
       "      <td>81</td>\n",
       "    </tr>\n",
       "    <tr>\n",
       "      <th>160</th>\n",
       "      <td>kadas-albireo/kadas-albireo</td>\n",
       "      <td>**This application is obsolete! Please use [KA...</td>\n",
       "      <td>121</td>\n",
       "    </tr>\n",
       "    <tr>\n",
       "      <th>294</th>\n",
       "      <td>ranghetti/sen2r</td>\n",
       "      <td># sen2r End Of Life\\n\\nsen2r will be retired f...</td>\n",
       "      <td>247</td>\n",
       "    </tr>\n",
       "    <tr>\n",
       "      <th>129</th>\n",
       "      <td>GeoWebCache/geowebcache</td>\n",
       "      <td># geowebcache\\n\\n[![Gitter](https://badges.git...</td>\n",
       "      <td>321</td>\n",
       "    </tr>\n",
       "    <tr>\n",
       "      <th>...</th>\n",
       "      <td>...</td>\n",
       "      <td>...</td>\n",
       "      <td>...</td>\n",
       "    </tr>\n",
       "    <tr>\n",
       "      <th>252</th>\n",
       "      <td>openvenues/libpostal</td>\n",
       "      <td># libpostal: international street address NLP\\...</td>\n",
       "      <td>46123</td>\n",
       "    </tr>\n",
       "    <tr>\n",
       "      <th>183</th>\n",
       "      <td>mapbox/Hecate</td>\n",
       "      <td>&lt;h1 align='center'&gt;Hecate&lt;/h1&gt;\\n\\n&lt;p align=cen...</td>\n",
       "      <td>47795</td>\n",
       "    </tr>\n",
       "    <tr>\n",
       "      <th>290</th>\n",
       "      <td>questdb/questdb</td>\n",
       "      <td>&lt;div align=\"center\"&gt;\\n  &lt;a href=\"https://quest...</td>\n",
       "      <td>52918</td>\n",
       "    </tr>\n",
       "    <tr>\n",
       "      <th>229</th>\n",
       "      <td>neocarto/bertin</td>\n",
       "      <td>[![logo](img/logo_small.png)](https://observab...</td>\n",
       "      <td>77411</td>\n",
       "    </tr>\n",
       "    <tr>\n",
       "      <th>138</th>\n",
       "      <td>gnss-sdr/gnss-sdr</td>\n",
       "      <td>&lt;!-- prettier-ignore-start --&gt;\\n[comment]: # (...</td>\n",
       "      <td>93929</td>\n",
       "    </tr>\n",
       "  </tbody>\n",
       "</table>\n",
       "<p>360 rows × 3 columns</p>\n",
       "</div>"
      ],
      "text/plain": [
       "                            Repo  \\\n",
       "90                 Gaia3D/mago3d   \n",
       "69           drolbr/Overpass-API   \n",
       "160  kadas-albireo/kadas-albireo   \n",
       "294              ranghetti/sen2r   \n",
       "129      GeoWebCache/geowebcache   \n",
       "..                           ...   \n",
       "252         openvenues/libpostal   \n",
       "183                mapbox/Hecate   \n",
       "290              questdb/questdb   \n",
       "229              neocarto/bertin   \n",
       "138            gnss-sdr/gnss-sdr   \n",
       "\n",
       "                                                Readme  Readme_len  \n",
       "90                                            # mago3d           8  \n",
       "69   Please see\\nhttp://wiki.osm.org/wiki/Overpass_...          81  \n",
       "160  **This application is obsolete! Please use [KA...         121  \n",
       "294  # sen2r End Of Life\\n\\nsen2r will be retired f...         247  \n",
       "129  # geowebcache\\n\\n[![Gitter](https://badges.git...         321  \n",
       "..                                                 ...         ...  \n",
       "252  # libpostal: international street address NLP\\...       46123  \n",
       "183  <h1 align='center'>Hecate</h1>\\n\\n<p align=cen...       47795  \n",
       "290  <div align=\"center\">\\n  <a href=\"https://quest...       52918  \n",
       "229  [![logo](img/logo_small.png)](https://observab...       77411  \n",
       "138  <!-- prettier-ignore-start -->\\n[comment]: # (...       93929  \n",
       "\n",
       "[360 rows x 3 columns]"
      ]
     },
     "execution_count": 9,
     "metadata": {},
     "output_type": "execute_result"
    }
   ],
   "source": [
    "df = df.sort_values(\"Readme_len\")\n",
    "df"
   ]
  },
  {
   "cell_type": "markdown",
   "metadata": {},
   "source": [
    "## The best text splitter around for good chunk quality"
   ]
  },
  {
   "cell_type": "code",
   "execution_count": 10,
   "metadata": {},
   "outputs": [
    {
     "data": {
      "application/vnd.jupyter.widget-view+json": {
       "model_id": "ad43d89d71874f0688069ab4348eda90",
       "version_major": 2,
       "version_minor": 0
      },
      "text/plain": [
       "VBox(children=(HBox(children=(IntProgress(value=0, description='0.00%', max=23), Label(value='0 / 23'))), HBox…"
      ]
     },
     "metadata": {},
     "output_type": "display_data"
    }
   ],
   "source": [
    "from semantic_text_splitter import TextSplitter\n",
    "from pandarallel import pandarallel\n",
    "\n",
    "#pandarallel.initialize(progress_bar=True)\n",
    "\n",
    "splitter = TextSplitter((4000,8000)) # 4k-8k chars -> 1-4ktokens, 8k max tokens for bge-m3\n",
    "\n",
    "def wrap_func(text):\n",
    "    return splitter.chunks(text)\n",
    "\n",
    "df[\"chunks\"] = df[\"Readme\"].parallel_apply(wrap_func) "
   ]
  },
  {
   "cell_type": "code",
   "execution_count": 13,
   "metadata": {},
   "outputs": [
    {
     "data": {
      "text/html": [
       "<div>\n",
       "<style scoped>\n",
       "    .dataframe tbody tr th:only-of-type {\n",
       "        vertical-align: middle;\n",
       "    }\n",
       "\n",
       "    .dataframe tbody tr th {\n",
       "        vertical-align: top;\n",
       "    }\n",
       "\n",
       "    .dataframe thead th {\n",
       "        text-align: right;\n",
       "    }\n",
       "</style>\n",
       "<table border=\"1\" class=\"dataframe\">\n",
       "  <thead>\n",
       "    <tr style=\"text-align: right;\">\n",
       "      <th></th>\n",
       "      <th>Repo</th>\n",
       "      <th>Readme</th>\n",
       "      <th>Readme_len</th>\n",
       "      <th>chunks</th>\n",
       "      <th>chunks_len</th>\n",
       "    </tr>\n",
       "  </thead>\n",
       "  <tbody>\n",
       "    <tr>\n",
       "      <th>90</th>\n",
       "      <td>Gaia3D/mago3d</td>\n",
       "      <td># mago3d</td>\n",
       "      <td>8</td>\n",
       "      <td>[# mago3d]</td>\n",
       "      <td>1</td>\n",
       "    </tr>\n",
       "    <tr>\n",
       "      <th>69</th>\n",
       "      <td>drolbr/Overpass-API</td>\n",
       "      <td>Please see\\nhttp://wiki.osm.org/wiki/Overpass_...</td>\n",
       "      <td>81</td>\n",
       "      <td>[Please see\\nhttp://wiki.osm.org/wiki/Overpass...</td>\n",
       "      <td>1</td>\n",
       "    </tr>\n",
       "    <tr>\n",
       "      <th>160</th>\n",
       "      <td>kadas-albireo/kadas-albireo</td>\n",
       "      <td>**This application is obsolete! Please use [KA...</td>\n",
       "      <td>121</td>\n",
       "      <td>[**This application is obsolete! Please use [K...</td>\n",
       "      <td>1</td>\n",
       "    </tr>\n",
       "    <tr>\n",
       "      <th>294</th>\n",
       "      <td>ranghetti/sen2r</td>\n",
       "      <td># sen2r End Of Life\\n\\nsen2r will be retired f...</td>\n",
       "      <td>247</td>\n",
       "      <td>[# sen2r End Of Life\\n\\nsen2r will be retired ...</td>\n",
       "      <td>1</td>\n",
       "    </tr>\n",
       "    <tr>\n",
       "      <th>129</th>\n",
       "      <td>GeoWebCache/geowebcache</td>\n",
       "      <td># geowebcache\\n\\n[![Gitter](https://badges.git...</td>\n",
       "      <td>321</td>\n",
       "      <td>[# geowebcache\\n\\n[![Gitter](https://badges.gi...</td>\n",
       "      <td>1</td>\n",
       "    </tr>\n",
       "    <tr>\n",
       "      <th>...</th>\n",
       "      <td>...</td>\n",
       "      <td>...</td>\n",
       "      <td>...</td>\n",
       "      <td>...</td>\n",
       "      <td>...</td>\n",
       "    </tr>\n",
       "    <tr>\n",
       "      <th>252</th>\n",
       "      <td>openvenues/libpostal</td>\n",
       "      <td># libpostal: international street address NLP\\...</td>\n",
       "      <td>46123</td>\n",
       "      <td>[# libpostal: international street address NLP...</td>\n",
       "      <td>11</td>\n",
       "    </tr>\n",
       "    <tr>\n",
       "      <th>183</th>\n",
       "      <td>mapbox/Hecate</td>\n",
       "      <td>&lt;h1 align='center'&gt;Hecate&lt;/h1&gt;\\n\\n&lt;p align=cen...</td>\n",
       "      <td>47795</td>\n",
       "      <td>[&lt;h1 align='center'&gt;Hecate&lt;/h1&gt;\\n\\n&lt;p align=ce...</td>\n",
       "      <td>9</td>\n",
       "    </tr>\n",
       "    <tr>\n",
       "      <th>290</th>\n",
       "      <td>questdb/questdb</td>\n",
       "      <td>&lt;div align=\"center\"&gt;\\n  &lt;a href=\"https://quest...</td>\n",
       "      <td>52918</td>\n",
       "      <td>[&lt;div align=\"center\"&gt;\\n  &lt;a href=\"https://ques...</td>\n",
       "      <td>13</td>\n",
       "    </tr>\n",
       "    <tr>\n",
       "      <th>229</th>\n",
       "      <td>neocarto/bertin</td>\n",
       "      <td>[![logo](img/logo_small.png)](https://observab...</td>\n",
       "      <td>77411</td>\n",
       "      <td>[[![logo](img/logo_small.png)](https://observa...</td>\n",
       "      <td>19</td>\n",
       "    </tr>\n",
       "    <tr>\n",
       "      <th>138</th>\n",
       "      <td>gnss-sdr/gnss-sdr</td>\n",
       "      <td>&lt;!-- prettier-ignore-start --&gt;\\n[comment]: # (...</td>\n",
       "      <td>93929</td>\n",
       "      <td>[&lt;!-- prettier-ignore-start --&gt;\\n[comment]: # ...</td>\n",
       "      <td>22</td>\n",
       "    </tr>\n",
       "  </tbody>\n",
       "</table>\n",
       "<p>360 rows × 5 columns</p>\n",
       "</div>"
      ],
      "text/plain": [
       "                            Repo  \\\n",
       "90                 Gaia3D/mago3d   \n",
       "69           drolbr/Overpass-API   \n",
       "160  kadas-albireo/kadas-albireo   \n",
       "294              ranghetti/sen2r   \n",
       "129      GeoWebCache/geowebcache   \n",
       "..                           ...   \n",
       "252         openvenues/libpostal   \n",
       "183                mapbox/Hecate   \n",
       "290              questdb/questdb   \n",
       "229              neocarto/bertin   \n",
       "138            gnss-sdr/gnss-sdr   \n",
       "\n",
       "                                                Readme  Readme_len  \\\n",
       "90                                            # mago3d           8   \n",
       "69   Please see\\nhttp://wiki.osm.org/wiki/Overpass_...          81   \n",
       "160  **This application is obsolete! Please use [KA...         121   \n",
       "294  # sen2r End Of Life\\n\\nsen2r will be retired f...         247   \n",
       "129  # geowebcache\\n\\n[![Gitter](https://badges.git...         321   \n",
       "..                                                 ...         ...   \n",
       "252  # libpostal: international street address NLP\\...       46123   \n",
       "183  <h1 align='center'>Hecate</h1>\\n\\n<p align=cen...       47795   \n",
       "290  <div align=\"center\">\\n  <a href=\"https://quest...       52918   \n",
       "229  [![logo](img/logo_small.png)](https://observab...       77411   \n",
       "138  <!-- prettier-ignore-start -->\\n[comment]: # (...       93929   \n",
       "\n",
       "                                                chunks  chunks_len  \n",
       "90                                          [# mago3d]           1  \n",
       "69   [Please see\\nhttp://wiki.osm.org/wiki/Overpass...           1  \n",
       "160  [**This application is obsolete! Please use [K...           1  \n",
       "294  [# sen2r End Of Life\\n\\nsen2r will be retired ...           1  \n",
       "129  [# geowebcache\\n\\n[![Gitter](https://badges.gi...           1  \n",
       "..                                                 ...         ...  \n",
       "252  [# libpostal: international street address NLP...          11  \n",
       "183  [<h1 align='center'>Hecate</h1>\\n\\n<p align=ce...           9  \n",
       "290  [<div align=\"center\">\\n  <a href=\"https://ques...          13  \n",
       "229  [[![logo](img/logo_small.png)](https://observa...          19  \n",
       "138  [<!-- prettier-ignore-start -->\\n[comment]: # ...          22  \n",
       "\n",
       "[360 rows x 5 columns]"
      ]
     },
     "execution_count": 13,
     "metadata": {},
     "output_type": "execute_result"
    }
   ],
   "source": [
    "df[\"chunks_len\"] = df[\"chunks\"].apply(lambda x: len(x))\n",
    "df"
   ]
  },
  {
   "cell_type": "code",
   "execution_count": 12,
   "metadata": {},
   "outputs": [],
   "source": [
    "# Test export\n",
    "df[[\"Repo\",\"Readme\"]].to_excel(\"Readmes.xlsx\")"
   ]
  },
  {
   "cell_type": "markdown",
   "metadata": {},
   "source": [
    "# Create embeddings \n",
    "\n",
    "bge-m3 is stil amongst the best multilingual embedding models out there (even though there are better, see here https://huggingface.co/spaces/mteb/leaderboard). I choose it because you could load the exact same model in the frontent and create static web apps like these hosted on GitHub pages. \n",
    "\n",
    "- https://do-me.github.io/SDG-Analyzer/\n",
    "- https://do-me.github.io/copernicus-services-semantic-search/\n",
    "- https://do-me.github.io/SemanticFinder/"
   ]
  },
  {
   "cell_type": "code",
   "execution_count": 14,
   "metadata": {},
   "outputs": [
    {
     "data": {
      "application/vnd.jupyter.widget-view+json": {
       "model_id": "c605255204314fd784dcd2c72c59ebfb",
       "version_major": 2,
       "version_minor": 0
      },
      "text/plain": [
       "Fetching 30 files:   0%|          | 0/30 [00:00<?, ?it/s]"
      ]
     },
     "metadata": {},
     "output_type": "display_data"
    }
   ],
   "source": [
    "from FlagEmbedding import BGEM3FlagModel\n",
    "model = BGEM3FlagModel('BAAI/bge-m3', use_fp16=True)"
   ]
  },
  {
   "cell_type": "code",
   "execution_count": 15,
   "metadata": {},
   "outputs": [
    {
     "name": "stderr",
     "output_type": "stream",
     "text": [
      "100%|██████████| 360/360 [06:32<00:00,  1.09s/it]\n"
     ]
    },
    {
     "data": {
      "text/html": [
       "<div>\n",
       "<style scoped>\n",
       "    .dataframe tbody tr th:only-of-type {\n",
       "        vertical-align: middle;\n",
       "    }\n",
       "\n",
       "    .dataframe tbody tr th {\n",
       "        vertical-align: top;\n",
       "    }\n",
       "\n",
       "    .dataframe thead th {\n",
       "        text-align: right;\n",
       "    }\n",
       "</style>\n",
       "<table border=\"1\" class=\"dataframe\">\n",
       "  <thead>\n",
       "    <tr style=\"text-align: right;\">\n",
       "      <th></th>\n",
       "      <th>Repo</th>\n",
       "      <th>Readme</th>\n",
       "      <th>Readme_len</th>\n",
       "      <th>chunks</th>\n",
       "      <th>chunks_len</th>\n",
       "      <th>embs</th>\n",
       "    </tr>\n",
       "  </thead>\n",
       "  <tbody>\n",
       "    <tr>\n",
       "      <th>90</th>\n",
       "      <td>Gaia3D/mago3d</td>\n",
       "      <td># mago3d</td>\n",
       "      <td>8</td>\n",
       "      <td>[# mago3d]</td>\n",
       "      <td>1</td>\n",
       "      <td>[[-0.006393, -0.010506, -0.01356, -0.06015, -0...</td>\n",
       "    </tr>\n",
       "    <tr>\n",
       "      <th>69</th>\n",
       "      <td>drolbr/Overpass-API</td>\n",
       "      <td>Please see\\nhttp://wiki.osm.org/wiki/Overpass_...</td>\n",
       "      <td>81</td>\n",
       "      <td>[Please see\\nhttp://wiki.osm.org/wiki/Overpass...</td>\n",
       "      <td>1</td>\n",
       "      <td>[[-0.004932, -0.00886, -0.02988, -0.00218, -0....</td>\n",
       "    </tr>\n",
       "    <tr>\n",
       "      <th>160</th>\n",
       "      <td>kadas-albireo/kadas-albireo</td>\n",
       "      <td>**This application is obsolete! Please use [KA...</td>\n",
       "      <td>121</td>\n",
       "      <td>[**This application is obsolete! Please use [K...</td>\n",
       "      <td>1</td>\n",
       "      <td>[[-0.000566, 0.01485, -0.065, -0.03055, -0.039...</td>\n",
       "    </tr>\n",
       "    <tr>\n",
       "      <th>294</th>\n",
       "      <td>ranghetti/sen2r</td>\n",
       "      <td># sen2r End Of Life\\n\\nsen2r will be retired f...</td>\n",
       "      <td>247</td>\n",
       "      <td>[# sen2r End Of Life\\n\\nsen2r will be retired ...</td>\n",
       "      <td>1</td>\n",
       "      <td>[[-0.04718, 0.003744, 0.004616, -0.02188, -0.0...</td>\n",
       "    </tr>\n",
       "    <tr>\n",
       "      <th>129</th>\n",
       "      <td>GeoWebCache/geowebcache</td>\n",
       "      <td># geowebcache\\n\\n[![Gitter](https://badges.git...</td>\n",
       "      <td>321</td>\n",
       "      <td>[# geowebcache\\n\\n[![Gitter](https://badges.gi...</td>\n",
       "      <td>1</td>\n",
       "      <td>[[-0.0518, 0.00799, -0.0359, 0.003271, -0.0064...</td>\n",
       "    </tr>\n",
       "    <tr>\n",
       "      <th>...</th>\n",
       "      <td>...</td>\n",
       "      <td>...</td>\n",
       "      <td>...</td>\n",
       "      <td>...</td>\n",
       "      <td>...</td>\n",
       "      <td>...</td>\n",
       "    </tr>\n",
       "    <tr>\n",
       "      <th>252</th>\n",
       "      <td>openvenues/libpostal</td>\n",
       "      <td># libpostal: international street address NLP\\...</td>\n",
       "      <td>46123</td>\n",
       "      <td>[# libpostal: international street address NLP...</td>\n",
       "      <td>11</td>\n",
       "      <td>[[-0.0818, -0.004604, -0.01075, 0.02449, 0.017...</td>\n",
       "    </tr>\n",
       "    <tr>\n",
       "      <th>183</th>\n",
       "      <td>mapbox/Hecate</td>\n",
       "      <td>&lt;h1 align='center'&gt;Hecate&lt;/h1&gt;\\n\\n&lt;p align=cen...</td>\n",
       "      <td>47795</td>\n",
       "      <td>[&lt;h1 align='center'&gt;Hecate&lt;/h1&gt;\\n\\n&lt;p align=ce...</td>\n",
       "      <td>9</td>\n",
       "      <td>[[-0.04398, 0.02171, -0.05487, 0.04868, 0.0091...</td>\n",
       "    </tr>\n",
       "    <tr>\n",
       "      <th>290</th>\n",
       "      <td>questdb/questdb</td>\n",
       "      <td>&lt;div align=\"center\"&gt;\\n  &lt;a href=\"https://quest...</td>\n",
       "      <td>52918</td>\n",
       "      <td>[&lt;div align=\"center\"&gt;\\n  &lt;a href=\"https://ques...</td>\n",
       "      <td>13</td>\n",
       "      <td>[[-0.04514, -0.03952, -0.0709, -0.007202, -0.0...</td>\n",
       "    </tr>\n",
       "    <tr>\n",
       "      <th>229</th>\n",
       "      <td>neocarto/bertin</td>\n",
       "      <td>[![logo](img/logo_small.png)](https://observab...</td>\n",
       "      <td>77411</td>\n",
       "      <td>[[![logo](img/logo_small.png)](https://observa...</td>\n",
       "      <td>19</td>\n",
       "      <td>[[-0.06647, -0.007717, -0.02762, 0.007065, 0.0...</td>\n",
       "    </tr>\n",
       "    <tr>\n",
       "      <th>138</th>\n",
       "      <td>gnss-sdr/gnss-sdr</td>\n",
       "      <td>&lt;!-- prettier-ignore-start --&gt;\\n[comment]: # (...</td>\n",
       "      <td>93929</td>\n",
       "      <td>[&lt;!-- prettier-ignore-start --&gt;\\n[comment]: # ...</td>\n",
       "      <td>22</td>\n",
       "      <td>[[-0.09894, 0.013084, -0.04562, -0.03726, -0.0...</td>\n",
       "    </tr>\n",
       "  </tbody>\n",
       "</table>\n",
       "<p>360 rows × 6 columns</p>\n",
       "</div>"
      ],
      "text/plain": [
       "                            Repo  \\\n",
       "90                 Gaia3D/mago3d   \n",
       "69           drolbr/Overpass-API   \n",
       "160  kadas-albireo/kadas-albireo   \n",
       "294              ranghetti/sen2r   \n",
       "129      GeoWebCache/geowebcache   \n",
       "..                           ...   \n",
       "252         openvenues/libpostal   \n",
       "183                mapbox/Hecate   \n",
       "290              questdb/questdb   \n",
       "229              neocarto/bertin   \n",
       "138            gnss-sdr/gnss-sdr   \n",
       "\n",
       "                                                Readme  Readme_len  \\\n",
       "90                                            # mago3d           8   \n",
       "69   Please see\\nhttp://wiki.osm.org/wiki/Overpass_...          81   \n",
       "160  **This application is obsolete! Please use [KA...         121   \n",
       "294  # sen2r End Of Life\\n\\nsen2r will be retired f...         247   \n",
       "129  # geowebcache\\n\\n[![Gitter](https://badges.git...         321   \n",
       "..                                                 ...         ...   \n",
       "252  # libpostal: international street address NLP\\...       46123   \n",
       "183  <h1 align='center'>Hecate</h1>\\n\\n<p align=cen...       47795   \n",
       "290  <div align=\"center\">\\n  <a href=\"https://quest...       52918   \n",
       "229  [![logo](img/logo_small.png)](https://observab...       77411   \n",
       "138  <!-- prettier-ignore-start -->\\n[comment]: # (...       93929   \n",
       "\n",
       "                                                chunks  chunks_len  \\\n",
       "90                                          [# mago3d]           1   \n",
       "69   [Please see\\nhttp://wiki.osm.org/wiki/Overpass...           1   \n",
       "160  [**This application is obsolete! Please use [K...           1   \n",
       "294  [# sen2r End Of Life\\n\\nsen2r will be retired ...           1   \n",
       "129  [# geowebcache\\n\\n[![Gitter](https://badges.gi...           1   \n",
       "..                                                 ...         ...   \n",
       "252  [# libpostal: international street address NLP...          11   \n",
       "183  [<h1 align='center'>Hecate</h1>\\n\\n<p align=ce...           9   \n",
       "290  [<div align=\"center\">\\n  <a href=\"https://ques...          13   \n",
       "229  [[![logo](img/logo_small.png)](https://observa...          19   \n",
       "138  [<!-- prettier-ignore-start -->\\n[comment]: # ...          22   \n",
       "\n",
       "                                                  embs  \n",
       "90   [[-0.006393, -0.010506, -0.01356, -0.06015, -0...  \n",
       "69   [[-0.004932, -0.00886, -0.02988, -0.00218, -0....  \n",
       "160  [[-0.000566, 0.01485, -0.065, -0.03055, -0.039...  \n",
       "294  [[-0.04718, 0.003744, 0.004616, -0.02188, -0.0...  \n",
       "129  [[-0.0518, 0.00799, -0.0359, 0.003271, -0.0064...  \n",
       "..                                                 ...  \n",
       "252  [[-0.0818, -0.004604, -0.01075, 0.02449, 0.017...  \n",
       "183  [[-0.04398, 0.02171, -0.05487, 0.04868, 0.0091...  \n",
       "290  [[-0.04514, -0.03952, -0.0709, -0.007202, -0.0...  \n",
       "229  [[-0.06647, -0.007717, -0.02762, 0.007065, 0.0...  \n",
       "138  [[-0.09894, 0.013084, -0.04562, -0.03726, -0.0...  \n",
       "\n",
       "[360 rows x 6 columns]"
      ]
     },
     "execution_count": 15,
     "metadata": {},
     "output_type": "execute_result"
    }
   ],
   "source": [
    "df[\"embs\"] = df[\"chunks\"].progress_apply(lambda x: model.encode(x, batch_size=64)['dense_vecs']) # takes 6 mins on my M3 Max but should also work fairly fast on CPU-only devices\n",
    "df"
   ]
  },
  {
   "cell_type": "code",
   "execution_count": 16,
   "metadata": {},
   "outputs": [
    {
     "ename": "ArrowInvalid",
     "evalue": "('Can only convert 1-dimensional array values', 'Conversion failed for column embs with type object')",
     "output_type": "error",
     "traceback": [
      "\u001b[0;31m---------------------------------------------------------------------------\u001b[0m",
      "\u001b[0;31mArrowInvalid\u001b[0m                              Traceback (most recent call last)",
      "Cell \u001b[0;32mIn[16], line 1\u001b[0m\n\u001b[0;32m----> 1\u001b[0m \u001b[43mdf\u001b[49m\u001b[38;5;241;43m.\u001b[39;49m\u001b[43mto_parquet\u001b[49m\u001b[43m(\u001b[49m\u001b[38;5;124;43m\"\u001b[39;49m\u001b[38;5;124;43mreadmes.parquet\u001b[39;49m\u001b[38;5;124;43m\"\u001b[39;49m\u001b[43m)\u001b[49m\n",
      "File \u001b[0;32m/opt/homebrew/Caskroom/miniconda/base/envs/py3.11/lib/python3.11/site-packages/pandas/util/_decorators.py:333\u001b[0m, in \u001b[0;36mdeprecate_nonkeyword_arguments.<locals>.decorate.<locals>.wrapper\u001b[0;34m(*args, **kwargs)\u001b[0m\n\u001b[1;32m    327\u001b[0m \u001b[38;5;28;01mif\u001b[39;00m \u001b[38;5;28mlen\u001b[39m(args) \u001b[38;5;241m>\u001b[39m num_allow_args:\n\u001b[1;32m    328\u001b[0m     warnings\u001b[38;5;241m.\u001b[39mwarn(\n\u001b[1;32m    329\u001b[0m         msg\u001b[38;5;241m.\u001b[39mformat(arguments\u001b[38;5;241m=\u001b[39m_format_argument_list(allow_args)),\n\u001b[1;32m    330\u001b[0m         \u001b[38;5;167;01mFutureWarning\u001b[39;00m,\n\u001b[1;32m    331\u001b[0m         stacklevel\u001b[38;5;241m=\u001b[39mfind_stack_level(),\n\u001b[1;32m    332\u001b[0m     )\n\u001b[0;32m--> 333\u001b[0m \u001b[38;5;28;01mreturn\u001b[39;00m \u001b[43mfunc\u001b[49m\u001b[43m(\u001b[49m\u001b[38;5;241;43m*\u001b[39;49m\u001b[43margs\u001b[49m\u001b[43m,\u001b[49m\u001b[43m \u001b[49m\u001b[38;5;241;43m*\u001b[39;49m\u001b[38;5;241;43m*\u001b[39;49m\u001b[43mkwargs\u001b[49m\u001b[43m)\u001b[49m\n",
      "File \u001b[0;32m/opt/homebrew/Caskroom/miniconda/base/envs/py3.11/lib/python3.11/site-packages/pandas/core/frame.py:3113\u001b[0m, in \u001b[0;36mDataFrame.to_parquet\u001b[0;34m(self, path, engine, compression, index, partition_cols, storage_options, **kwargs)\u001b[0m\n\u001b[1;32m   3032\u001b[0m \u001b[38;5;250m\u001b[39m\u001b[38;5;124;03m\"\"\"\u001b[39;00m\n\u001b[1;32m   3033\u001b[0m \u001b[38;5;124;03mWrite a DataFrame to the binary parquet format.\u001b[39;00m\n\u001b[1;32m   3034\u001b[0m \n\u001b[0;32m   (...)\u001b[0m\n\u001b[1;32m   3109\u001b[0m \u001b[38;5;124;03m>>> content = f.read()\u001b[39;00m\n\u001b[1;32m   3110\u001b[0m \u001b[38;5;124;03m\"\"\"\u001b[39;00m\n\u001b[1;32m   3111\u001b[0m \u001b[38;5;28;01mfrom\u001b[39;00m \u001b[38;5;21;01mpandas\u001b[39;00m\u001b[38;5;21;01m.\u001b[39;00m\u001b[38;5;21;01mio\u001b[39;00m\u001b[38;5;21;01m.\u001b[39;00m\u001b[38;5;21;01mparquet\u001b[39;00m \u001b[38;5;28;01mimport\u001b[39;00m to_parquet\n\u001b[0;32m-> 3113\u001b[0m \u001b[38;5;28;01mreturn\u001b[39;00m \u001b[43mto_parquet\u001b[49m\u001b[43m(\u001b[49m\n\u001b[1;32m   3114\u001b[0m \u001b[43m    \u001b[49m\u001b[38;5;28;43mself\u001b[39;49m\u001b[43m,\u001b[49m\n\u001b[1;32m   3115\u001b[0m \u001b[43m    \u001b[49m\u001b[43mpath\u001b[49m\u001b[43m,\u001b[49m\n\u001b[1;32m   3116\u001b[0m \u001b[43m    \u001b[49m\u001b[43mengine\u001b[49m\u001b[43m,\u001b[49m\n\u001b[1;32m   3117\u001b[0m \u001b[43m    \u001b[49m\u001b[43mcompression\u001b[49m\u001b[38;5;241;43m=\u001b[39;49m\u001b[43mcompression\u001b[49m\u001b[43m,\u001b[49m\n\u001b[1;32m   3118\u001b[0m \u001b[43m    \u001b[49m\u001b[43mindex\u001b[49m\u001b[38;5;241;43m=\u001b[39;49m\u001b[43mindex\u001b[49m\u001b[43m,\u001b[49m\n\u001b[1;32m   3119\u001b[0m \u001b[43m    \u001b[49m\u001b[43mpartition_cols\u001b[49m\u001b[38;5;241;43m=\u001b[39;49m\u001b[43mpartition_cols\u001b[49m\u001b[43m,\u001b[49m\n\u001b[1;32m   3120\u001b[0m \u001b[43m    \u001b[49m\u001b[43mstorage_options\u001b[49m\u001b[38;5;241;43m=\u001b[39;49m\u001b[43mstorage_options\u001b[49m\u001b[43m,\u001b[49m\n\u001b[1;32m   3121\u001b[0m \u001b[43m    \u001b[49m\u001b[38;5;241;43m*\u001b[39;49m\u001b[38;5;241;43m*\u001b[39;49m\u001b[43mkwargs\u001b[49m\u001b[43m,\u001b[49m\n\u001b[1;32m   3122\u001b[0m \u001b[43m\u001b[49m\u001b[43m)\u001b[49m\n",
      "File \u001b[0;32m/opt/homebrew/Caskroom/miniconda/base/envs/py3.11/lib/python3.11/site-packages/pandas/io/parquet.py:480\u001b[0m, in \u001b[0;36mto_parquet\u001b[0;34m(df, path, engine, compression, index, storage_options, partition_cols, filesystem, **kwargs)\u001b[0m\n\u001b[1;32m    476\u001b[0m impl \u001b[38;5;241m=\u001b[39m get_engine(engine)\n\u001b[1;32m    478\u001b[0m path_or_buf: FilePath \u001b[38;5;241m|\u001b[39m WriteBuffer[\u001b[38;5;28mbytes\u001b[39m] \u001b[38;5;241m=\u001b[39m io\u001b[38;5;241m.\u001b[39mBytesIO() \u001b[38;5;28;01mif\u001b[39;00m path \u001b[38;5;129;01mis\u001b[39;00m \u001b[38;5;28;01mNone\u001b[39;00m \u001b[38;5;28;01melse\u001b[39;00m path\n\u001b[0;32m--> 480\u001b[0m \u001b[43mimpl\u001b[49m\u001b[38;5;241;43m.\u001b[39;49m\u001b[43mwrite\u001b[49m\u001b[43m(\u001b[49m\n\u001b[1;32m    481\u001b[0m \u001b[43m    \u001b[49m\u001b[43mdf\u001b[49m\u001b[43m,\u001b[49m\n\u001b[1;32m    482\u001b[0m \u001b[43m    \u001b[49m\u001b[43mpath_or_buf\u001b[49m\u001b[43m,\u001b[49m\n\u001b[1;32m    483\u001b[0m \u001b[43m    \u001b[49m\u001b[43mcompression\u001b[49m\u001b[38;5;241;43m=\u001b[39;49m\u001b[43mcompression\u001b[49m\u001b[43m,\u001b[49m\n\u001b[1;32m    484\u001b[0m \u001b[43m    \u001b[49m\u001b[43mindex\u001b[49m\u001b[38;5;241;43m=\u001b[39;49m\u001b[43mindex\u001b[49m\u001b[43m,\u001b[49m\n\u001b[1;32m    485\u001b[0m \u001b[43m    \u001b[49m\u001b[43mpartition_cols\u001b[49m\u001b[38;5;241;43m=\u001b[39;49m\u001b[43mpartition_cols\u001b[49m\u001b[43m,\u001b[49m\n\u001b[1;32m    486\u001b[0m \u001b[43m    \u001b[49m\u001b[43mstorage_options\u001b[49m\u001b[38;5;241;43m=\u001b[39;49m\u001b[43mstorage_options\u001b[49m\u001b[43m,\u001b[49m\n\u001b[1;32m    487\u001b[0m \u001b[43m    \u001b[49m\u001b[43mfilesystem\u001b[49m\u001b[38;5;241;43m=\u001b[39;49m\u001b[43mfilesystem\u001b[49m\u001b[43m,\u001b[49m\n\u001b[1;32m    488\u001b[0m \u001b[43m    \u001b[49m\u001b[38;5;241;43m*\u001b[39;49m\u001b[38;5;241;43m*\u001b[39;49m\u001b[43mkwargs\u001b[49m\u001b[43m,\u001b[49m\n\u001b[1;32m    489\u001b[0m \u001b[43m\u001b[49m\u001b[43m)\u001b[49m\n\u001b[1;32m    491\u001b[0m \u001b[38;5;28;01mif\u001b[39;00m path \u001b[38;5;129;01mis\u001b[39;00m \u001b[38;5;28;01mNone\u001b[39;00m:\n\u001b[1;32m    492\u001b[0m     \u001b[38;5;28;01massert\u001b[39;00m \u001b[38;5;28misinstance\u001b[39m(path_or_buf, io\u001b[38;5;241m.\u001b[39mBytesIO)\n",
      "File \u001b[0;32m/opt/homebrew/Caskroom/miniconda/base/envs/py3.11/lib/python3.11/site-packages/pandas/io/parquet.py:190\u001b[0m, in \u001b[0;36mPyArrowImpl.write\u001b[0;34m(self, df, path, compression, index, storage_options, partition_cols, filesystem, **kwargs)\u001b[0m\n\u001b[1;32m    187\u001b[0m \u001b[38;5;28;01mif\u001b[39;00m index \u001b[38;5;129;01mis\u001b[39;00m \u001b[38;5;129;01mnot\u001b[39;00m \u001b[38;5;28;01mNone\u001b[39;00m:\n\u001b[1;32m    188\u001b[0m     from_pandas_kwargs[\u001b[38;5;124m\"\u001b[39m\u001b[38;5;124mpreserve_index\u001b[39m\u001b[38;5;124m\"\u001b[39m] \u001b[38;5;241m=\u001b[39m index\n\u001b[0;32m--> 190\u001b[0m table \u001b[38;5;241m=\u001b[39m \u001b[38;5;28;43mself\u001b[39;49m\u001b[38;5;241;43m.\u001b[39;49m\u001b[43mapi\u001b[49m\u001b[38;5;241;43m.\u001b[39;49m\u001b[43mTable\u001b[49m\u001b[38;5;241;43m.\u001b[39;49m\u001b[43mfrom_pandas\u001b[49m\u001b[43m(\u001b[49m\u001b[43mdf\u001b[49m\u001b[43m,\u001b[49m\u001b[43m \u001b[49m\u001b[38;5;241;43m*\u001b[39;49m\u001b[38;5;241;43m*\u001b[39;49m\u001b[43mfrom_pandas_kwargs\u001b[49m\u001b[43m)\u001b[49m\n\u001b[1;32m    192\u001b[0m \u001b[38;5;28;01mif\u001b[39;00m df\u001b[38;5;241m.\u001b[39mattrs:\n\u001b[1;32m    193\u001b[0m     df_metadata \u001b[38;5;241m=\u001b[39m {\u001b[38;5;124m\"\u001b[39m\u001b[38;5;124mPANDAS_ATTRS\u001b[39m\u001b[38;5;124m\"\u001b[39m: json\u001b[38;5;241m.\u001b[39mdumps(df\u001b[38;5;241m.\u001b[39mattrs)}\n",
      "File \u001b[0;32m/opt/homebrew/Caskroom/miniconda/base/envs/py3.11/lib/python3.11/site-packages/pyarrow/table.pxi:3874\u001b[0m, in \u001b[0;36mpyarrow.lib.Table.from_pandas\u001b[0;34m()\u001b[0m\n",
      "File \u001b[0;32m/opt/homebrew/Caskroom/miniconda/base/envs/py3.11/lib/python3.11/site-packages/pyarrow/pandas_compat.py:611\u001b[0m, in \u001b[0;36mdataframe_to_arrays\u001b[0;34m(df, schema, preserve_index, nthreads, columns, safe)\u001b[0m\n\u001b[1;32m    606\u001b[0m     \u001b[38;5;28;01mreturn\u001b[39;00m (\u001b[38;5;28misinstance\u001b[39m(arr, np\u001b[38;5;241m.\u001b[39mndarray) \u001b[38;5;129;01mand\u001b[39;00m\n\u001b[1;32m    607\u001b[0m             arr\u001b[38;5;241m.\u001b[39mflags\u001b[38;5;241m.\u001b[39mcontiguous \u001b[38;5;129;01mand\u001b[39;00m\n\u001b[1;32m    608\u001b[0m             \u001b[38;5;28missubclass\u001b[39m(arr\u001b[38;5;241m.\u001b[39mdtype\u001b[38;5;241m.\u001b[39mtype, np\u001b[38;5;241m.\u001b[39minteger))\n\u001b[1;32m    610\u001b[0m \u001b[38;5;28;01mif\u001b[39;00m nthreads \u001b[38;5;241m==\u001b[39m \u001b[38;5;241m1\u001b[39m:\n\u001b[0;32m--> 611\u001b[0m     arrays \u001b[38;5;241m=\u001b[39m \u001b[43m[\u001b[49m\u001b[43mconvert_column\u001b[49m\u001b[43m(\u001b[49m\u001b[43mc\u001b[49m\u001b[43m,\u001b[49m\u001b[43m \u001b[49m\u001b[43mf\u001b[49m\u001b[43m)\u001b[49m\n\u001b[1;32m    612\u001b[0m \u001b[43m              \u001b[49m\u001b[38;5;28;43;01mfor\u001b[39;49;00m\u001b[43m \u001b[49m\u001b[43mc\u001b[49m\u001b[43m,\u001b[49m\u001b[43m \u001b[49m\u001b[43mf\u001b[49m\u001b[43m \u001b[49m\u001b[38;5;129;43;01min\u001b[39;49;00m\u001b[43m \u001b[49m\u001b[38;5;28;43mzip\u001b[39;49m\u001b[43m(\u001b[49m\u001b[43mcolumns_to_convert\u001b[49m\u001b[43m,\u001b[49m\u001b[43m \u001b[49m\u001b[43mconvert_fields\u001b[49m\u001b[43m)\u001b[49m\u001b[43m]\u001b[49m\n\u001b[1;32m    613\u001b[0m \u001b[38;5;28;01melse\u001b[39;00m:\n\u001b[1;32m    614\u001b[0m     arrays \u001b[38;5;241m=\u001b[39m []\n",
      "File \u001b[0;32m/opt/homebrew/Caskroom/miniconda/base/envs/py3.11/lib/python3.11/site-packages/pyarrow/pandas_compat.py:611\u001b[0m, in \u001b[0;36m<listcomp>\u001b[0;34m(.0)\u001b[0m\n\u001b[1;32m    606\u001b[0m     \u001b[38;5;28;01mreturn\u001b[39;00m (\u001b[38;5;28misinstance\u001b[39m(arr, np\u001b[38;5;241m.\u001b[39mndarray) \u001b[38;5;129;01mand\u001b[39;00m\n\u001b[1;32m    607\u001b[0m             arr\u001b[38;5;241m.\u001b[39mflags\u001b[38;5;241m.\u001b[39mcontiguous \u001b[38;5;129;01mand\u001b[39;00m\n\u001b[1;32m    608\u001b[0m             \u001b[38;5;28missubclass\u001b[39m(arr\u001b[38;5;241m.\u001b[39mdtype\u001b[38;5;241m.\u001b[39mtype, np\u001b[38;5;241m.\u001b[39minteger))\n\u001b[1;32m    610\u001b[0m \u001b[38;5;28;01mif\u001b[39;00m nthreads \u001b[38;5;241m==\u001b[39m \u001b[38;5;241m1\u001b[39m:\n\u001b[0;32m--> 611\u001b[0m     arrays \u001b[38;5;241m=\u001b[39m [\u001b[43mconvert_column\u001b[49m\u001b[43m(\u001b[49m\u001b[43mc\u001b[49m\u001b[43m,\u001b[49m\u001b[43m \u001b[49m\u001b[43mf\u001b[49m\u001b[43m)\u001b[49m\n\u001b[1;32m    612\u001b[0m               \u001b[38;5;28;01mfor\u001b[39;00m c, f \u001b[38;5;129;01min\u001b[39;00m \u001b[38;5;28mzip\u001b[39m(columns_to_convert, convert_fields)]\n\u001b[1;32m    613\u001b[0m \u001b[38;5;28;01melse\u001b[39;00m:\n\u001b[1;32m    614\u001b[0m     arrays \u001b[38;5;241m=\u001b[39m []\n",
      "File \u001b[0;32m/opt/homebrew/Caskroom/miniconda/base/envs/py3.11/lib/python3.11/site-packages/pyarrow/pandas_compat.py:598\u001b[0m, in \u001b[0;36mdataframe_to_arrays.<locals>.convert_column\u001b[0;34m(col, field)\u001b[0m\n\u001b[1;32m    593\u001b[0m \u001b[38;5;28;01mexcept\u001b[39;00m (pa\u001b[38;5;241m.\u001b[39mArrowInvalid,\n\u001b[1;32m    594\u001b[0m         pa\u001b[38;5;241m.\u001b[39mArrowNotImplementedError,\n\u001b[1;32m    595\u001b[0m         pa\u001b[38;5;241m.\u001b[39mArrowTypeError) \u001b[38;5;28;01mas\u001b[39;00m e:\n\u001b[1;32m    596\u001b[0m     e\u001b[38;5;241m.\u001b[39margs \u001b[38;5;241m+\u001b[39m\u001b[38;5;241m=\u001b[39m (\u001b[38;5;124m\"\u001b[39m\u001b[38;5;124mConversion failed for column \u001b[39m\u001b[38;5;132;01m{!s}\u001b[39;00m\u001b[38;5;124m with type \u001b[39m\u001b[38;5;132;01m{!s}\u001b[39;00m\u001b[38;5;124m\"\u001b[39m\n\u001b[1;32m    597\u001b[0m                \u001b[38;5;241m.\u001b[39mformat(col\u001b[38;5;241m.\u001b[39mname, col\u001b[38;5;241m.\u001b[39mdtype),)\n\u001b[0;32m--> 598\u001b[0m     \u001b[38;5;28;01mraise\u001b[39;00m e\n\u001b[1;32m    599\u001b[0m \u001b[38;5;28;01mif\u001b[39;00m \u001b[38;5;129;01mnot\u001b[39;00m field_nullable \u001b[38;5;129;01mand\u001b[39;00m result\u001b[38;5;241m.\u001b[39mnull_count \u001b[38;5;241m>\u001b[39m \u001b[38;5;241m0\u001b[39m:\n\u001b[1;32m    600\u001b[0m     \u001b[38;5;28;01mraise\u001b[39;00m \u001b[38;5;167;01mValueError\u001b[39;00m(\u001b[38;5;124m\"\u001b[39m\u001b[38;5;124mField \u001b[39m\u001b[38;5;132;01m{}\u001b[39;00m\u001b[38;5;124m was non-nullable but pandas column \u001b[39m\u001b[38;5;124m\"\u001b[39m\n\u001b[1;32m    601\u001b[0m                      \u001b[38;5;124m\"\u001b[39m\u001b[38;5;124mhad \u001b[39m\u001b[38;5;132;01m{}\u001b[39;00m\u001b[38;5;124m null values\u001b[39m\u001b[38;5;124m\"\u001b[39m\u001b[38;5;241m.\u001b[39mformat(\u001b[38;5;28mstr\u001b[39m(field),\n\u001b[1;32m    602\u001b[0m                                                  result\u001b[38;5;241m.\u001b[39mnull_count))\n",
      "File \u001b[0;32m/opt/homebrew/Caskroom/miniconda/base/envs/py3.11/lib/python3.11/site-packages/pyarrow/pandas_compat.py:592\u001b[0m, in \u001b[0;36mdataframe_to_arrays.<locals>.convert_column\u001b[0;34m(col, field)\u001b[0m\n\u001b[1;32m    589\u001b[0m     type_ \u001b[38;5;241m=\u001b[39m field\u001b[38;5;241m.\u001b[39mtype\n\u001b[1;32m    591\u001b[0m \u001b[38;5;28;01mtry\u001b[39;00m:\n\u001b[0;32m--> 592\u001b[0m     result \u001b[38;5;241m=\u001b[39m \u001b[43mpa\u001b[49m\u001b[38;5;241;43m.\u001b[39;49m\u001b[43marray\u001b[49m\u001b[43m(\u001b[49m\u001b[43mcol\u001b[49m\u001b[43m,\u001b[49m\u001b[43m \u001b[49m\u001b[38;5;28;43mtype\u001b[39;49m\u001b[38;5;241;43m=\u001b[39;49m\u001b[43mtype_\u001b[49m\u001b[43m,\u001b[49m\u001b[43m \u001b[49m\u001b[43mfrom_pandas\u001b[49m\u001b[38;5;241;43m=\u001b[39;49m\u001b[38;5;28;43;01mTrue\u001b[39;49;00m\u001b[43m,\u001b[49m\u001b[43m \u001b[49m\u001b[43msafe\u001b[49m\u001b[38;5;241;43m=\u001b[39;49m\u001b[43msafe\u001b[49m\u001b[43m)\u001b[49m\n\u001b[1;32m    593\u001b[0m \u001b[38;5;28;01mexcept\u001b[39;00m (pa\u001b[38;5;241m.\u001b[39mArrowInvalid,\n\u001b[1;32m    594\u001b[0m         pa\u001b[38;5;241m.\u001b[39mArrowNotImplementedError,\n\u001b[1;32m    595\u001b[0m         pa\u001b[38;5;241m.\u001b[39mArrowTypeError) \u001b[38;5;28;01mas\u001b[39;00m e:\n\u001b[1;32m    596\u001b[0m     e\u001b[38;5;241m.\u001b[39margs \u001b[38;5;241m+\u001b[39m\u001b[38;5;241m=\u001b[39m (\u001b[38;5;124m\"\u001b[39m\u001b[38;5;124mConversion failed for column \u001b[39m\u001b[38;5;132;01m{!s}\u001b[39;00m\u001b[38;5;124m with type \u001b[39m\u001b[38;5;132;01m{!s}\u001b[39;00m\u001b[38;5;124m\"\u001b[39m\n\u001b[1;32m    597\u001b[0m                \u001b[38;5;241m.\u001b[39mformat(col\u001b[38;5;241m.\u001b[39mname, col\u001b[38;5;241m.\u001b[39mdtype),)\n",
      "File \u001b[0;32m/opt/homebrew/Caskroom/miniconda/base/envs/py3.11/lib/python3.11/site-packages/pyarrow/array.pxi:339\u001b[0m, in \u001b[0;36mpyarrow.lib.array\u001b[0;34m()\u001b[0m\n",
      "File \u001b[0;32m/opt/homebrew/Caskroom/miniconda/base/envs/py3.11/lib/python3.11/site-packages/pyarrow/array.pxi:85\u001b[0m, in \u001b[0;36mpyarrow.lib._ndarray_to_array\u001b[0;34m()\u001b[0m\n",
      "File \u001b[0;32m/opt/homebrew/Caskroom/miniconda/base/envs/py3.11/lib/python3.11/site-packages/pyarrow/error.pxi:91\u001b[0m, in \u001b[0;36mpyarrow.lib.check_status\u001b[0;34m()\u001b[0m\n",
      "\u001b[0;31mArrowInvalid\u001b[0m: ('Can only convert 1-dimensional array values', 'Conversion failed for column embs with type object')"
     ]
    }
   ],
   "source": [
    "df.to_parquet(\"readmes.parquet\")"
   ]
  },
  {
   "cell_type": "markdown",
   "metadata": {},
   "source": [
    "## My custom functions for pickling arrays of arrays in a column, not needed if you don't want to persist all chunk embeddings"
   ]
  },
  {
   "cell_type": "code",
   "execution_count": 4,
   "metadata": {},
   "outputs": [],
   "source": [
    "import pandas as pd\n",
    "import pickle\n",
    "import polars as pl\n",
    "\n",
    "def write_pd_pickle(df, filename, pickle_cols=None):\n",
    "    \"\"\"\n",
    "    Writes a pandas DataFrame to a Parquet file, pickling specified columns.\n",
    "    The function takes a DataFrame and pickles the specified columns before saving\n",
    "    the DataFrame to a Parquet file. This is useful for saving columns that contain\n",
    "    data types that Parquet might not natively support, such as lists or dictionaries.\n",
    "    Parameters:\n",
    "    - df: pandas DataFrame to be written.\n",
    "    - filename: the name of the output Parquet file.\n",
    "    - pickle_cols: a list of column names in the DataFrame to be pickled.\n",
    "    Returns:\n",
    "    - A list of pickled column names.\n",
    "    Raises:\n",
    "    - ValueError: if pickle_cols is not provided or a column listed in pickle_cols is not in the DataFrame.\n",
    "    Example:\n",
    "    >>> df_auto = pd.DataFrame({'test_list': [[1, 2], [3, 4]], 'list_of_lists': [[[1], [2]], [[3], [4]]]})\n",
    "    >>> write_pd_pickle(df_auto, \"test.parquet\", [\"test_list\", \"list_of_lists\"])\n",
    "    ['test_list', 'list_of_lists']\n",
    "    \"\"\"\n",
    "    if pickle_cols is None:\n",
    "        raise ValueError(\"pickle_cols must be a list of column names.\")\n",
    "\n",
    "    df_to_write = df.copy()\n",
    "\n",
    "    # Pickle specified columns\n",
    "    for col in pickle_cols:\n",
    "        if col not in df_to_write.columns:\n",
    "            raise ValueError(f\"Column '{col}' not found in the DataFrame.\")\n",
    "        df_to_write[col] = df_to_write[col].apply(pickle.dumps)\n",
    "\n",
    "    # Write DataFrame to Parquet file\n",
    "    df_to_write.to_parquet(filename, index=False)\n",
    "    \n",
    "    return pickle_cols\n",
    "\n",
    "  # write_pd_pickle(df_auto, \"test.parquet\", [\"test_list\",\"list_of_lists\"]\n",
    "\n",
    " \n",
    "  \n",
    "def is_pickled(column_sample):\n",
    "    try:\n",
    "        pickle.loads(column_sample)\n",
    "        return True\n",
    "    except Exception:\n",
    "        return False\n",
    "\n",
    "def read_pd_unpickle(filename, unpickle_cols=None):\n",
    "    \"\"\"\n",
    "    Reads a Parquet file into a pandas DataFrame, unpickling specified columns.\n",
    "    The function reads a Parquet file into a DataFrame and unpickles specified columns.\n",
    "    If unpickle_cols is not provided, it will attempt to auto-detect pickled columns.\n",
    "    Parameters:\n",
    "    - filename: the name of the Parquet file to read.\n",
    "    - unpickle_cols: a list of column names to be unpickled. If None, auto-detection is used.\n",
    "    Returns:\n",
    "    - A pandas DataFrame with specified columns unpickled.\n",
    "    Raises:\n",
    "    - ValueError: if unpickle_cols is not a list or a column listed in unpickle_cols is not in the DataFrame.\n",
    "    Examples:\n",
    "    Auto-detection mode:\n",
    "    >>> df_auto = read_pd_unpickle(\"test.parquet\")\n",
    "    >>> df_auto\n",
    "      test_list list_of_lists\n",
    "    0    [1, 2]       [[1], [2]]\n",
    "    1    [3, 4]       [[3], [4]]\n",
    "    \n",
    "    Manual mode, specifying columns to unpickle:\n",
    "    >>> df_manual = read_pd_unpickle(\"test.parquet\", unpickle_cols=[\"test_list\", \"list_of_lists\"])\n",
    "    >>> df_manual\n",
    "      test_list list_of_lists\n",
    "    0    [1, 2]       [[1], [2]]\n",
    "    1    [3, 4]       [[3], [4]]\n",
    "    \n",
    "    Quick check if the two DataFrames are the same:\n",
    "    >>> str(df_auto) == str(df_manual)\n",
    "    True\n",
    "    \"\"\"\n",
    "    df = pl.read_parquet(filename).to_pandas() # using polars as pandas has some bugs with nested structures\n",
    "    \n",
    "    if unpickle_cols is None:\n",
    "        # Auto-detection mode\n",
    "        unpickle_cols = []\n",
    "        for col in df.columns:\n",
    "            non_null_items = df[col].dropna()\n",
    "            if len(non_null_items) > 0:\n",
    "                sample = non_null_items.iloc[0]\n",
    "                if is_pickled(sample):\n",
    "                    unpickle_cols.append(col)\n",
    "    elif not isinstance(unpickle_cols, list):\n",
    "        raise ValueError(\"unpickle_cols must be a list of column names.\")\n",
    "    \n",
    "    # Unpickle specified columns\n",
    "    for col in unpickle_cols:\n",
    "        if col in df.columns:\n",
    "            df[col] = df[col].apply(lambda x: pickle.loads(x) if pd.notnull(x) else x)\n",
    "        else:\n",
    "            raise ValueError(f\"Column '{col}' not found in the DataFrame.\")\n",
    "    \n",
    "    return df\n"
   ]
  },
  {
   "cell_type": "code",
   "execution_count": 5,
   "metadata": {},
   "outputs": [],
   "source": [
    "#write_pd_pickle(df, \"Readme_embs.parquet\", pickle_cols=[\"embs\"])"
   ]
  },
  {
   "cell_type": "code",
   "execution_count": 6,
   "metadata": {},
   "outputs": [
    {
     "data": {
      "text/html": [
       "<div>\n",
       "<style scoped>\n",
       "    .dataframe tbody tr th:only-of-type {\n",
       "        vertical-align: middle;\n",
       "    }\n",
       "\n",
       "    .dataframe tbody tr th {\n",
       "        vertical-align: top;\n",
       "    }\n",
       "\n",
       "    .dataframe thead th {\n",
       "        text-align: right;\n",
       "    }\n",
       "</style>\n",
       "<table border=\"1\" class=\"dataframe\">\n",
       "  <thead>\n",
       "    <tr style=\"text-align: right;\">\n",
       "      <th></th>\n",
       "      <th>Repo</th>\n",
       "      <th>Readme</th>\n",
       "      <th>Readme_len</th>\n",
       "      <th>chunks</th>\n",
       "      <th>chunks_len</th>\n",
       "      <th>embs</th>\n",
       "    </tr>\n",
       "  </thead>\n",
       "  <tbody>\n",
       "    <tr>\n",
       "      <th>0</th>\n",
       "      <td>Gaia3D/mago3d</td>\n",
       "      <td># mago3d</td>\n",
       "      <td>8</td>\n",
       "      <td>[# mago3d]</td>\n",
       "      <td>1</td>\n",
       "      <td>[[-0.006393, -0.010506, -0.01356, -0.06015, -0...</td>\n",
       "    </tr>\n",
       "    <tr>\n",
       "      <th>1</th>\n",
       "      <td>drolbr/Overpass-API</td>\n",
       "      <td>Please see\\nhttp://wiki.osm.org/wiki/Overpass_...</td>\n",
       "      <td>81</td>\n",
       "      <td>[Please see\\nhttp://wiki.osm.org/wiki/Overpass...</td>\n",
       "      <td>1</td>\n",
       "      <td>[[-0.004932, -0.00886, -0.02988, -0.00218, -0....</td>\n",
       "    </tr>\n",
       "    <tr>\n",
       "      <th>2</th>\n",
       "      <td>kadas-albireo/kadas-albireo</td>\n",
       "      <td>**This application is obsolete! Please use [KA...</td>\n",
       "      <td>121</td>\n",
       "      <td>[**This application is obsolete! Please use [K...</td>\n",
       "      <td>1</td>\n",
       "      <td>[[-0.000566, 0.01485, -0.065, -0.03055, -0.039...</td>\n",
       "    </tr>\n",
       "    <tr>\n",
       "      <th>3</th>\n",
       "      <td>ranghetti/sen2r</td>\n",
       "      <td># sen2r End Of Life\\n\\nsen2r will be retired f...</td>\n",
       "      <td>247</td>\n",
       "      <td>[# sen2r End Of Life\\n\\nsen2r will be retired ...</td>\n",
       "      <td>1</td>\n",
       "      <td>[[-0.04718, 0.003744, 0.004616, -0.02188, -0.0...</td>\n",
       "    </tr>\n",
       "    <tr>\n",
       "      <th>4</th>\n",
       "      <td>GeoWebCache/geowebcache</td>\n",
       "      <td># geowebcache\\n\\n[![Gitter](https://badges.git...</td>\n",
       "      <td>321</td>\n",
       "      <td>[# geowebcache\\n\\n[![Gitter](https://badges.gi...</td>\n",
       "      <td>1</td>\n",
       "      <td>[[-0.0518, 0.00799, -0.0359, 0.003271, -0.0064...</td>\n",
       "    </tr>\n",
       "    <tr>\n",
       "      <th>...</th>\n",
       "      <td>...</td>\n",
       "      <td>...</td>\n",
       "      <td>...</td>\n",
       "      <td>...</td>\n",
       "      <td>...</td>\n",
       "      <td>...</td>\n",
       "    </tr>\n",
       "    <tr>\n",
       "      <th>355</th>\n",
       "      <td>openvenues/libpostal</td>\n",
       "      <td># libpostal: international street address NLP\\...</td>\n",
       "      <td>46123</td>\n",
       "      <td>[# libpostal: international street address NLP...</td>\n",
       "      <td>11</td>\n",
       "      <td>[[-0.0818, -0.004604, -0.01075, 0.02449, 0.017...</td>\n",
       "    </tr>\n",
       "    <tr>\n",
       "      <th>356</th>\n",
       "      <td>mapbox/Hecate</td>\n",
       "      <td>&lt;h1 align='center'&gt;Hecate&lt;/h1&gt;\\n\\n&lt;p align=cen...</td>\n",
       "      <td>47795</td>\n",
       "      <td>[&lt;h1 align='center'&gt;Hecate&lt;/h1&gt;\\n\\n&lt;p align=ce...</td>\n",
       "      <td>9</td>\n",
       "      <td>[[-0.04398, 0.02171, -0.05487, 0.04868, 0.0091...</td>\n",
       "    </tr>\n",
       "    <tr>\n",
       "      <th>357</th>\n",
       "      <td>questdb/questdb</td>\n",
       "      <td>&lt;div align=\"center\"&gt;\\n  &lt;a href=\"https://quest...</td>\n",
       "      <td>52918</td>\n",
       "      <td>[&lt;div align=\"center\"&gt;\\n  &lt;a href=\"https://ques...</td>\n",
       "      <td>13</td>\n",
       "      <td>[[-0.04514, -0.03952, -0.0709, -0.007202, -0.0...</td>\n",
       "    </tr>\n",
       "    <tr>\n",
       "      <th>358</th>\n",
       "      <td>neocarto/bertin</td>\n",
       "      <td>[![logo](img/logo_small.png)](https://observab...</td>\n",
       "      <td>77411</td>\n",
       "      <td>[[![logo](img/logo_small.png)](https://observa...</td>\n",
       "      <td>19</td>\n",
       "      <td>[[-0.06647, -0.007717, -0.02762, 0.007065, 0.0...</td>\n",
       "    </tr>\n",
       "    <tr>\n",
       "      <th>359</th>\n",
       "      <td>gnss-sdr/gnss-sdr</td>\n",
       "      <td>&lt;!-- prettier-ignore-start --&gt;\\n[comment]: # (...</td>\n",
       "      <td>93929</td>\n",
       "      <td>[&lt;!-- prettier-ignore-start --&gt;\\n[comment]: # ...</td>\n",
       "      <td>22</td>\n",
       "      <td>[[-0.09894, 0.013084, -0.04562, -0.03726, -0.0...</td>\n",
       "    </tr>\n",
       "  </tbody>\n",
       "</table>\n",
       "<p>360 rows × 6 columns</p>\n",
       "</div>"
      ],
      "text/plain": [
       "                            Repo  \\\n",
       "0                  Gaia3D/mago3d   \n",
       "1            drolbr/Overpass-API   \n",
       "2    kadas-albireo/kadas-albireo   \n",
       "3                ranghetti/sen2r   \n",
       "4        GeoWebCache/geowebcache   \n",
       "..                           ...   \n",
       "355         openvenues/libpostal   \n",
       "356                mapbox/Hecate   \n",
       "357              questdb/questdb   \n",
       "358              neocarto/bertin   \n",
       "359            gnss-sdr/gnss-sdr   \n",
       "\n",
       "                                                Readme  Readme_len  \\\n",
       "0                                             # mago3d           8   \n",
       "1    Please see\\nhttp://wiki.osm.org/wiki/Overpass_...          81   \n",
       "2    **This application is obsolete! Please use [KA...         121   \n",
       "3    # sen2r End Of Life\\n\\nsen2r will be retired f...         247   \n",
       "4    # geowebcache\\n\\n[![Gitter](https://badges.git...         321   \n",
       "..                                                 ...         ...   \n",
       "355  # libpostal: international street address NLP\\...       46123   \n",
       "356  <h1 align='center'>Hecate</h1>\\n\\n<p align=cen...       47795   \n",
       "357  <div align=\"center\">\\n  <a href=\"https://quest...       52918   \n",
       "358  [![logo](img/logo_small.png)](https://observab...       77411   \n",
       "359  <!-- prettier-ignore-start -->\\n[comment]: # (...       93929   \n",
       "\n",
       "                                                chunks  chunks_len  \\\n",
       "0                                           [# mago3d]           1   \n",
       "1    [Please see\\nhttp://wiki.osm.org/wiki/Overpass...           1   \n",
       "2    [**This application is obsolete! Please use [K...           1   \n",
       "3    [# sen2r End Of Life\\n\\nsen2r will be retired ...           1   \n",
       "4    [# geowebcache\\n\\n[![Gitter](https://badges.gi...           1   \n",
       "..                                                 ...         ...   \n",
       "355  [# libpostal: international street address NLP...          11   \n",
       "356  [<h1 align='center'>Hecate</h1>\\n\\n<p align=ce...           9   \n",
       "357  [<div align=\"center\">\\n  <a href=\"https://ques...          13   \n",
       "358  [[![logo](img/logo_small.png)](https://observa...          19   \n",
       "359  [<!-- prettier-ignore-start -->\\n[comment]: # ...          22   \n",
       "\n",
       "                                                  embs  \n",
       "0    [[-0.006393, -0.010506, -0.01356, -0.06015, -0...  \n",
       "1    [[-0.004932, -0.00886, -0.02988, -0.00218, -0....  \n",
       "2    [[-0.000566, 0.01485, -0.065, -0.03055, -0.039...  \n",
       "3    [[-0.04718, 0.003744, 0.004616, -0.02188, -0.0...  \n",
       "4    [[-0.0518, 0.00799, -0.0359, 0.003271, -0.0064...  \n",
       "..                                                 ...  \n",
       "355  [[-0.0818, -0.004604, -0.01075, 0.02449, 0.017...  \n",
       "356  [[-0.04398, 0.02171, -0.05487, 0.04868, 0.0091...  \n",
       "357  [[-0.04514, -0.03952, -0.0709, -0.007202, -0.0...  \n",
       "358  [[-0.06647, -0.007717, -0.02762, 0.007065, 0.0...  \n",
       "359  [[-0.09894, 0.013084, -0.04562, -0.03726, -0.0...  \n",
       "\n",
       "[360 rows x 6 columns]"
      ]
     },
     "execution_count": 6,
     "metadata": {},
     "output_type": "execute_result"
    }
   ],
   "source": [
    "import polars as pl\n",
    "df = read_pd_unpickle(\"Readme_embs.parquet\")#, pickle_cols=[\"embs\"])\n",
    "df"
   ]
  },
  {
   "cell_type": "markdown",
   "metadata": {},
   "source": [
    "## Averaging all chunk embeddings to obtain one averaged ebedding per repo"
   ]
  },
  {
   "cell_type": "code",
   "execution_count": 7,
   "metadata": {},
   "outputs": [
    {
     "data": {
      "text/html": [
       "<div>\n",
       "<style scoped>\n",
       "    .dataframe tbody tr th:only-of-type {\n",
       "        vertical-align: middle;\n",
       "    }\n",
       "\n",
       "    .dataframe tbody tr th {\n",
       "        vertical-align: top;\n",
       "    }\n",
       "\n",
       "    .dataframe thead th {\n",
       "        text-align: right;\n",
       "    }\n",
       "</style>\n",
       "<table border=\"1\" class=\"dataframe\">\n",
       "  <thead>\n",
       "    <tr style=\"text-align: right;\">\n",
       "      <th></th>\n",
       "      <th>Repo</th>\n",
       "      <th>Readme</th>\n",
       "      <th>Readme_len</th>\n",
       "      <th>chunks</th>\n",
       "      <th>chunks_len</th>\n",
       "      <th>embs</th>\n",
       "      <th>mean_embs</th>\n",
       "    </tr>\n",
       "  </thead>\n",
       "  <tbody>\n",
       "    <tr>\n",
       "      <th>0</th>\n",
       "      <td>Gaia3D/mago3d</td>\n",
       "      <td># mago3d</td>\n",
       "      <td>8</td>\n",
       "      <td>[# mago3d]</td>\n",
       "      <td>1</td>\n",
       "      <td>[[-0.006393, -0.010506, -0.01356, -0.06015, -0...</td>\n",
       "      <td>[-0.0063934326, -0.010505676, -0.013557434, -0...</td>\n",
       "    </tr>\n",
       "    <tr>\n",
       "      <th>1</th>\n",
       "      <td>drolbr/Overpass-API</td>\n",
       "      <td>Please see\\nhttp://wiki.osm.org/wiki/Overpass_...</td>\n",
       "      <td>81</td>\n",
       "      <td>[Please see\\nhttp://wiki.osm.org/wiki/Overpass...</td>\n",
       "      <td>1</td>\n",
       "      <td>[[-0.004932, -0.00886, -0.02988, -0.00218, -0....</td>\n",
       "      <td>[-0.0049324036, -0.008857727, -0.029876709, -0...</td>\n",
       "    </tr>\n",
       "    <tr>\n",
       "      <th>2</th>\n",
       "      <td>kadas-albireo/kadas-albireo</td>\n",
       "      <td>**This application is obsolete! Please use [KA...</td>\n",
       "      <td>121</td>\n",
       "      <td>[**This application is obsolete! Please use [K...</td>\n",
       "      <td>1</td>\n",
       "      <td>[[-0.000566, 0.01485, -0.065, -0.03055, -0.039...</td>\n",
       "      <td>[-0.0005660057, 0.014846802, -0.06500244, -0.0...</td>\n",
       "    </tr>\n",
       "    <tr>\n",
       "      <th>3</th>\n",
       "      <td>ranghetti/sen2r</td>\n",
       "      <td># sen2r End Of Life\\n\\nsen2r will be retired f...</td>\n",
       "      <td>247</td>\n",
       "      <td>[# sen2r End Of Life\\n\\nsen2r will be retired ...</td>\n",
       "      <td>1</td>\n",
       "      <td>[[-0.04718, 0.003744, 0.004616, -0.02188, -0.0...</td>\n",
       "      <td>[-0.047180176, 0.0037441254, 0.0046157837, -0....</td>\n",
       "    </tr>\n",
       "    <tr>\n",
       "      <th>4</th>\n",
       "      <td>GeoWebCache/geowebcache</td>\n",
       "      <td># geowebcache\\n\\n[![Gitter](https://badges.git...</td>\n",
       "      <td>321</td>\n",
       "      <td>[# geowebcache\\n\\n[![Gitter](https://badges.gi...</td>\n",
       "      <td>1</td>\n",
       "      <td>[[-0.0518, 0.00799, -0.0359, 0.003271, -0.0064...</td>\n",
       "      <td>[-0.05178833, 0.007987976, -0.035888672, 0.003...</td>\n",
       "    </tr>\n",
       "    <tr>\n",
       "      <th>...</th>\n",
       "      <td>...</td>\n",
       "      <td>...</td>\n",
       "      <td>...</td>\n",
       "      <td>...</td>\n",
       "      <td>...</td>\n",
       "      <td>...</td>\n",
       "      <td>...</td>\n",
       "    </tr>\n",
       "    <tr>\n",
       "      <th>355</th>\n",
       "      <td>openvenues/libpostal</td>\n",
       "      <td># libpostal: international street address NLP\\...</td>\n",
       "      <td>46123</td>\n",
       "      <td>[# libpostal: international street address NLP...</td>\n",
       "      <td>11</td>\n",
       "      <td>[[-0.0818, -0.004604, -0.01075, 0.02449, 0.017...</td>\n",
       "      <td>[-0.069654986, -0.0029153607, -0.023781776, 0....</td>\n",
       "    </tr>\n",
       "    <tr>\n",
       "      <th>356</th>\n",
       "      <td>mapbox/Hecate</td>\n",
       "      <td>&lt;h1 align='center'&gt;Hecate&lt;/h1&gt;\\n\\n&lt;p align=cen...</td>\n",
       "      <td>47795</td>\n",
       "      <td>[&lt;h1 align='center'&gt;Hecate&lt;/h1&gt;\\n\\n&lt;p align=ce...</td>\n",
       "      <td>9</td>\n",
       "      <td>[[-0.04398, 0.02171, -0.05487, 0.04868, 0.0091...</td>\n",
       "      <td>[-0.038349576, 0.0061443117, -0.03994836, 0.02...</td>\n",
       "    </tr>\n",
       "    <tr>\n",
       "      <th>357</th>\n",
       "      <td>questdb/questdb</td>\n",
       "      <td>&lt;div align=\"center\"&gt;\\n  &lt;a href=\"https://quest...</td>\n",
       "      <td>52918</td>\n",
       "      <td>[&lt;div align=\"center\"&gt;\\n  &lt;a href=\"https://ques...</td>\n",
       "      <td>13</td>\n",
       "      <td>[[-0.04514, -0.03952, -0.0709, -0.007202, -0.0...</td>\n",
       "      <td>[-0.040005025, -0.012131765, -0.03804838, -0.0...</td>\n",
       "    </tr>\n",
       "    <tr>\n",
       "      <th>358</th>\n",
       "      <td>neocarto/bertin</td>\n",
       "      <td>[![logo](img/logo_small.png)](https://observab...</td>\n",
       "      <td>77411</td>\n",
       "      <td>[[![logo](img/logo_small.png)](https://observa...</td>\n",
       "      <td>19</td>\n",
       "      <td>[[-0.06647, -0.007717, -0.02762, 0.007065, 0.0...</td>\n",
       "      <td>[-0.06993826, -0.014848056, -0.02876603, 0.014...</td>\n",
       "    </tr>\n",
       "    <tr>\n",
       "      <th>359</th>\n",
       "      <td>gnss-sdr/gnss-sdr</td>\n",
       "      <td>&lt;!-- prettier-ignore-start --&gt;\\n[comment]: # (...</td>\n",
       "      <td>93929</td>\n",
       "      <td>[&lt;!-- prettier-ignore-start --&gt;\\n[comment]: # ...</td>\n",
       "      <td>22</td>\n",
       "      <td>[[-0.09894, 0.013084, -0.04562, -0.03726, -0.0...</td>\n",
       "      <td>[-0.060082868, -0.00053890183, -0.03762332, -0...</td>\n",
       "    </tr>\n",
       "  </tbody>\n",
       "</table>\n",
       "<p>360 rows × 7 columns</p>\n",
       "</div>"
      ],
      "text/plain": [
       "                            Repo  \\\n",
       "0                  Gaia3D/mago3d   \n",
       "1            drolbr/Overpass-API   \n",
       "2    kadas-albireo/kadas-albireo   \n",
       "3                ranghetti/sen2r   \n",
       "4        GeoWebCache/geowebcache   \n",
       "..                           ...   \n",
       "355         openvenues/libpostal   \n",
       "356                mapbox/Hecate   \n",
       "357              questdb/questdb   \n",
       "358              neocarto/bertin   \n",
       "359            gnss-sdr/gnss-sdr   \n",
       "\n",
       "                                                Readme  Readme_len  \\\n",
       "0                                             # mago3d           8   \n",
       "1    Please see\\nhttp://wiki.osm.org/wiki/Overpass_...          81   \n",
       "2    **This application is obsolete! Please use [KA...         121   \n",
       "3    # sen2r End Of Life\\n\\nsen2r will be retired f...         247   \n",
       "4    # geowebcache\\n\\n[![Gitter](https://badges.git...         321   \n",
       "..                                                 ...         ...   \n",
       "355  # libpostal: international street address NLP\\...       46123   \n",
       "356  <h1 align='center'>Hecate</h1>\\n\\n<p align=cen...       47795   \n",
       "357  <div align=\"center\">\\n  <a href=\"https://quest...       52918   \n",
       "358  [![logo](img/logo_small.png)](https://observab...       77411   \n",
       "359  <!-- prettier-ignore-start -->\\n[comment]: # (...       93929   \n",
       "\n",
       "                                                chunks  chunks_len  \\\n",
       "0                                           [# mago3d]           1   \n",
       "1    [Please see\\nhttp://wiki.osm.org/wiki/Overpass...           1   \n",
       "2    [**This application is obsolete! Please use [K...           1   \n",
       "3    [# sen2r End Of Life\\n\\nsen2r will be retired ...           1   \n",
       "4    [# geowebcache\\n\\n[![Gitter](https://badges.gi...           1   \n",
       "..                                                 ...         ...   \n",
       "355  [# libpostal: international street address NLP...          11   \n",
       "356  [<h1 align='center'>Hecate</h1>\\n\\n<p align=ce...           9   \n",
       "357  [<div align=\"center\">\\n  <a href=\"https://ques...          13   \n",
       "358  [[![logo](img/logo_small.png)](https://observa...          19   \n",
       "359  [<!-- prettier-ignore-start -->\\n[comment]: # ...          22   \n",
       "\n",
       "                                                  embs  \\\n",
       "0    [[-0.006393, -0.010506, -0.01356, -0.06015, -0...   \n",
       "1    [[-0.004932, -0.00886, -0.02988, -0.00218, -0....   \n",
       "2    [[-0.000566, 0.01485, -0.065, -0.03055, -0.039...   \n",
       "3    [[-0.04718, 0.003744, 0.004616, -0.02188, -0.0...   \n",
       "4    [[-0.0518, 0.00799, -0.0359, 0.003271, -0.0064...   \n",
       "..                                                 ...   \n",
       "355  [[-0.0818, -0.004604, -0.01075, 0.02449, 0.017...   \n",
       "356  [[-0.04398, 0.02171, -0.05487, 0.04868, 0.0091...   \n",
       "357  [[-0.04514, -0.03952, -0.0709, -0.007202, -0.0...   \n",
       "358  [[-0.06647, -0.007717, -0.02762, 0.007065, 0.0...   \n",
       "359  [[-0.09894, 0.013084, -0.04562, -0.03726, -0.0...   \n",
       "\n",
       "                                             mean_embs  \n",
       "0    [-0.0063934326, -0.010505676, -0.013557434, -0...  \n",
       "1    [-0.0049324036, -0.008857727, -0.029876709, -0...  \n",
       "2    [-0.0005660057, 0.014846802, -0.06500244, -0.0...  \n",
       "3    [-0.047180176, 0.0037441254, 0.0046157837, -0....  \n",
       "4    [-0.05178833, 0.007987976, -0.035888672, 0.003...  \n",
       "..                                                 ...  \n",
       "355  [-0.069654986, -0.0029153607, -0.023781776, 0....  \n",
       "356  [-0.038349576, 0.0061443117, -0.03994836, 0.02...  \n",
       "357  [-0.040005025, -0.012131765, -0.03804838, -0.0...  \n",
       "358  [-0.06993826, -0.014848056, -0.02876603, 0.014...  \n",
       "359  [-0.060082868, -0.00053890183, -0.03762332, -0...  \n",
       "\n",
       "[360 rows x 7 columns]"
      ]
     },
     "execution_count": 7,
     "metadata": {},
     "output_type": "execute_result"
    }
   ],
   "source": [
    "import numpy as np\n",
    "def average_embs(embs):\n",
    "\n",
    "    # Convert the list of embeddings to a NumPy array and change its dtype to float32\n",
    "    embeddings_array = np.array(embs).astype('float32')\n",
    "    \n",
    "    # Calculate the mean vector\n",
    "    mean_vector = np.mean(embeddings_array, axis=0)\n",
    "    \n",
    "    return mean_vector\n",
    "\n",
    "df[\"mean_embs\"] = df[\"embs\"].apply(lambda x: average_embs(x))\n",
    "df"
   ]
  },
  {
   "cell_type": "code",
   "execution_count": 8,
   "metadata": {},
   "outputs": [],
   "source": [
    "from numpy import dot\n",
    "from numpy.linalg import norm\n",
    "\n",
    "def cosine_distance(list1, list2):\n",
    "    # Ensure the input lists have the same length\n",
    "    if len(list1) != len(list2):\n",
    "        raise ValueError(\"Both lists must have the same length\")\n",
    "    \n",
    "    # Compute cosine similarity\n",
    "    cos_similarity = dot(list1, list2) / (norm(list1) * norm(list2))\n",
    "    \n",
    "    # Cosine distance is 1 - cosine similarity\n",
    "    cos_distance = 1 - cos_similarity\n",
    "    \n",
    "    return cos_distance\n"
   ]
  },
  {
   "cell_type": "markdown",
   "metadata": {},
   "source": [
    "# Run some test semantic search \n",
    "\n",
    "Might not work very well as the data is quite dirty (special chars, lots of code etc. see the GitHub readme for improvement strategies)"
   ]
  },
  {
   "cell_type": "code",
   "execution_count": 10,
   "metadata": {},
   "outputs": [
    {
     "ename": "NameError",
     "evalue": "name 'model' is not defined",
     "output_type": "error",
     "traceback": [
      "\u001b[0;31m---------------------------------------------------------------------------\u001b[0m",
      "\u001b[0;31mNameError\u001b[0m                                 Traceback (most recent call last)",
      "Cell \u001b[0;32mIn[10], line 2\u001b[0m\n\u001b[1;32m      1\u001b[0m USER_QUERY \u001b[38;5;241m=\u001b[39m \u001b[38;5;124m\"\u001b[39m\u001b[38;5;124mqgis, quantum gis\u001b[39m\u001b[38;5;124m\"\u001b[39m \u001b[38;5;66;03m#a performant desktop gis software for processing large geospatial datasets\"\u001b[39;00m\n\u001b[0;32m----> 2\u001b[0m query_embs \u001b[38;5;241m=\u001b[39m \u001b[43mmodel\u001b[49m\u001b[38;5;241m.\u001b[39mencode(USER_QUERY, batch_size\u001b[38;5;241m=\u001b[39m\u001b[38;5;241m64\u001b[39m)[\u001b[38;5;124m'\u001b[39m\u001b[38;5;124mdense_vecs\u001b[39m\u001b[38;5;124m'\u001b[39m]\u001b[38;5;241m.\u001b[39mtolist()\n",
      "\u001b[0;31mNameError\u001b[0m: name 'model' is not defined"
     ]
    }
   ],
   "source": [
    "USER_QUERY = \"A performant raster processing framework\" #a performant desktop gis software for processing large geospatial datasets\"\n",
    "query_embs = model.encode(USER_QUERY, batch_size=64)['dense_vecs'].tolist()"
   ]
  },
  {
   "cell_type": "code",
   "execution_count": 39,
   "metadata": {},
   "outputs": [
    {
     "data": {
      "text/html": [
       "<div>\n",
       "<style scoped>\n",
       "    .dataframe tbody tr th:only-of-type {\n",
       "        vertical-align: middle;\n",
       "    }\n",
       "\n",
       "    .dataframe tbody tr th {\n",
       "        vertical-align: top;\n",
       "    }\n",
       "\n",
       "    .dataframe thead th {\n",
       "        text-align: right;\n",
       "    }\n",
       "</style>\n",
       "<table border=\"1\" class=\"dataframe\">\n",
       "  <thead>\n",
       "    <tr style=\"text-align: right;\">\n",
       "      <th></th>\n",
       "      <th>Repo</th>\n",
       "      <th>Readme</th>\n",
       "      <th>Readme_len</th>\n",
       "      <th>chunks</th>\n",
       "      <th>chunks_len</th>\n",
       "      <th>embs</th>\n",
       "      <th>mean_embs</th>\n",
       "      <th>similarity</th>\n",
       "    </tr>\n",
       "  </thead>\n",
       "  <tbody>\n",
       "    <tr>\n",
       "      <th>294</th>\n",
       "      <td>ranghetti/sen2r</td>\n",
       "      <td># sen2r End Of Life\\n\\nsen2r will be retired f...</td>\n",
       "      <td>247</td>\n",
       "      <td>[# sen2r End Of Life\\n\\nsen2r will be retired ...</td>\n",
       "      <td>1</td>\n",
       "      <td>[[-0.04718, 0.003744, 0.004616, -0.02188, -0.0...</td>\n",
       "      <td>[-0.047180176, 0.0037441254, 0.0046157837, -0....</td>\n",
       "      <td>0.729533</td>\n",
       "    </tr>\n",
       "    <tr>\n",
       "      <th>78</th>\n",
       "      <td>eoxc/eoxc</td>\n",
       "      <td># EOxC client framework\\n\\nThe full documentat...</td>\n",
       "      <td>697</td>\n",
       "      <td>[# EOxC client framework\\n\\nThe full documenta...</td>\n",
       "      <td>1</td>\n",
       "      <td>[[-0.05774, -0.013535, -0.0333, 0.002598, -0.0...</td>\n",
       "      <td>[-0.057739258, -0.013534546, -0.033294678, 0.0...</td>\n",
       "      <td>0.691178</td>\n",
       "    </tr>\n",
       "    <tr>\n",
       "      <th>248</th>\n",
       "      <td>OpenOrienteering/mapper</td>\n",
       "      <td># OpenOrienteering Mapper\\n\\n![Mapper Screensh...</td>\n",
       "      <td>1842</td>\n",
       "      <td>[# OpenOrienteering Mapper\\n\\n![Mapper Screens...</td>\n",
       "      <td>1</td>\n",
       "      <td>[[-0.04678, -0.02916, -0.05716, -0.01528, 0.00...</td>\n",
       "      <td>[-0.046783447, -0.029159546, -0.057159424, -0....</td>\n",
       "      <td>0.690257</td>\n",
       "    </tr>\n",
       "    <tr>\n",
       "      <th>308</th>\n",
       "      <td>sahana/eden</td>\n",
       "      <td># Sahana Eden\\r\\n\\r\\nSahana Eden is an Emergen...</td>\n",
       "      <td>818</td>\n",
       "      <td>[# Sahana Eden\\r\\n\\r\\nSahana Eden is an Emerge...</td>\n",
       "      <td>1</td>\n",
       "      <td>[[-0.01949, -0.00813, -0.03235, -0.0466, -0.04...</td>\n",
       "      <td>[-0.019485474, -0.008132935, -0.032348633, -0....</td>\n",
       "      <td>0.682721</td>\n",
       "    </tr>\n",
       "    <tr>\n",
       "      <th>40</th>\n",
       "      <td>chelm/mbtiles-server</td>\n",
       "      <td>mbtiles-server\\n==============\\n\\nWow. It's re...</td>\n",
       "      <td>366</td>\n",
       "      <td>[mbtiles-server\\n==============\\n\\nWow. It's r...</td>\n",
       "      <td>1</td>\n",
       "      <td>[[-0.03894, 0.002981, 0.002565, 0.0276, 0.0004...</td>\n",
       "      <td>[-0.03894043, 0.002981186, 0.002565384, 0.0276...</td>\n",
       "      <td>0.682104</td>\n",
       "    </tr>\n",
       "    <tr>\n",
       "      <th>...</th>\n",
       "      <td>...</td>\n",
       "      <td>...</td>\n",
       "      <td>...</td>\n",
       "      <td>...</td>\n",
       "      <td>...</td>\n",
       "      <td>...</td>\n",
       "      <td>...</td>\n",
       "      <td>...</td>\n",
       "    </tr>\n",
       "    <tr>\n",
       "      <th>244</th>\n",
       "      <td>opengisch/QField</td>\n",
       "      <td>[![Read the Docs](https://img.shields.io/badge...</td>\n",
       "      <td>3731</td>\n",
       "      <td>[[![Read the Docs](https://img.shields.io/badg...</td>\n",
       "      <td>1</td>\n",
       "      <td>[[-0.0708, 0.00784, -0.0674, -0.0647, -0.03397...</td>\n",
       "      <td>[-0.07080078, 0.007843018, -0.06738281, -0.064...</td>\n",
       "      <td>0.478474</td>\n",
       "    </tr>\n",
       "    <tr>\n",
       "      <th>51</th>\n",
       "      <td>davidbyttow/govips</td>\n",
       "      <td># &lt;img src=\"https://raw.githubusercontent.com/...</td>\n",
       "      <td>4284</td>\n",
       "      <td>[# &lt;img src=\"https://raw.githubusercontent.com...</td>\n",
       "      <td>2</td>\n",
       "      <td>[[-0.0712, -0.00569, -0.04672, 0.01567, -0.016...</td>\n",
       "      <td>[-0.06359863, -0.009773254, -0.037017822, 0.00...</td>\n",
       "      <td>0.478294</td>\n",
       "    </tr>\n",
       "    <tr>\n",
       "      <th>1</th>\n",
       "      <td>3liz/lizmap-web-client</td>\n",
       "      <td># [![logo](icon.png \"3Liz\")][3liz]Lizmap Web A...</td>\n",
       "      <td>4756</td>\n",
       "      <td>[# [![logo](icon.png \"3Liz\")][3liz]Lizmap Web ...</td>\n",
       "      <td>2</td>\n",
       "      <td>[[-0.0739, 0.01813, -0.03186, -0.00068, -0.002...</td>\n",
       "      <td>[-0.07107544, 0.02129364, -0.04598999, -0.0222...</td>\n",
       "      <td>0.455781</td>\n",
       "    </tr>\n",
       "    <tr>\n",
       "      <th>274</th>\n",
       "      <td>pka/qgpkg</td>\n",
       "      <td>qgpkg\\n========\\n\\nIntroduction\\n------------\\...</td>\n",
       "      <td>4377</td>\n",
       "      <td>[qgpkg\\n========\\n\\nIntroduction\\n------------...</td>\n",
       "      <td>2</td>\n",
       "      <td>[[-0.07043, 0.006348, -0.05615, -0.00705, 0.01...</td>\n",
       "      <td>[-0.0826416, -0.0054244995, -0.035762787, -0.0...</td>\n",
       "      <td>0.404193</td>\n",
       "    </tr>\n",
       "    <tr>\n",
       "      <th>288</th>\n",
       "      <td>qgis/QGIS</td>\n",
       "      <td>&lt;img src=\"images/README-md/main_logo.png\" widt...</td>\n",
       "      <td>12268</td>\n",
       "      <td>[&lt;img src=\"images/README-md/main_logo.png\" wid...</td>\n",
       "      <td>3</td>\n",
       "      <td>[[-0.07556, 0.009285, -0.0455, -0.013374, 0.00...</td>\n",
       "      <td>[-0.070729576, 0.005051295, -0.034520466, -0.0...</td>\n",
       "      <td>0.367253</td>\n",
       "    </tr>\n",
       "  </tbody>\n",
       "</table>\n",
       "<p>360 rows × 8 columns</p>\n",
       "</div>"
      ],
      "text/plain": [
       "                        Repo  \\\n",
       "294          ranghetti/sen2r   \n",
       "78                 eoxc/eoxc   \n",
       "248  OpenOrienteering/mapper   \n",
       "308              sahana/eden   \n",
       "40      chelm/mbtiles-server   \n",
       "..                       ...   \n",
       "244         opengisch/QField   \n",
       "51        davidbyttow/govips   \n",
       "1     3liz/lizmap-web-client   \n",
       "274                pka/qgpkg   \n",
       "288                qgis/QGIS   \n",
       "\n",
       "                                                Readme  Readme_len  \\\n",
       "294  # sen2r End Of Life\\n\\nsen2r will be retired f...         247   \n",
       "78   # EOxC client framework\\n\\nThe full documentat...         697   \n",
       "248  # OpenOrienteering Mapper\\n\\n![Mapper Screensh...        1842   \n",
       "308  # Sahana Eden\\r\\n\\r\\nSahana Eden is an Emergen...         818   \n",
       "40   mbtiles-server\\n==============\\n\\nWow. It's re...         366   \n",
       "..                                                 ...         ...   \n",
       "244  [![Read the Docs](https://img.shields.io/badge...        3731   \n",
       "51   # <img src=\"https://raw.githubusercontent.com/...        4284   \n",
       "1    # [![logo](icon.png \"3Liz\")][3liz]Lizmap Web A...        4756   \n",
       "274  qgpkg\\n========\\n\\nIntroduction\\n------------\\...        4377   \n",
       "288  <img src=\"images/README-md/main_logo.png\" widt...       12268   \n",
       "\n",
       "                                                chunks  chunks_len  \\\n",
       "294  [# sen2r End Of Life\\n\\nsen2r will be retired ...           1   \n",
       "78   [# EOxC client framework\\n\\nThe full documenta...           1   \n",
       "248  [# OpenOrienteering Mapper\\n\\n![Mapper Screens...           1   \n",
       "308  [# Sahana Eden\\r\\n\\r\\nSahana Eden is an Emerge...           1   \n",
       "40   [mbtiles-server\\n==============\\n\\nWow. It's r...           1   \n",
       "..                                                 ...         ...   \n",
       "244  [[![Read the Docs](https://img.shields.io/badg...           1   \n",
       "51   [# <img src=\"https://raw.githubusercontent.com...           2   \n",
       "1    [# [![logo](icon.png \"3Liz\")][3liz]Lizmap Web ...           2   \n",
       "274  [qgpkg\\n========\\n\\nIntroduction\\n------------...           2   \n",
       "288  [<img src=\"images/README-md/main_logo.png\" wid...           3   \n",
       "\n",
       "                                                  embs  \\\n",
       "294  [[-0.04718, 0.003744, 0.004616, -0.02188, -0.0...   \n",
       "78   [[-0.05774, -0.013535, -0.0333, 0.002598, -0.0...   \n",
       "248  [[-0.04678, -0.02916, -0.05716, -0.01528, 0.00...   \n",
       "308  [[-0.01949, -0.00813, -0.03235, -0.0466, -0.04...   \n",
       "40   [[-0.03894, 0.002981, 0.002565, 0.0276, 0.0004...   \n",
       "..                                                 ...   \n",
       "244  [[-0.0708, 0.00784, -0.0674, -0.0647, -0.03397...   \n",
       "51   [[-0.0712, -0.00569, -0.04672, 0.01567, -0.016...   \n",
       "1    [[-0.0739, 0.01813, -0.03186, -0.00068, -0.002...   \n",
       "274  [[-0.07043, 0.006348, -0.05615, -0.00705, 0.01...   \n",
       "288  [[-0.07556, 0.009285, -0.0455, -0.013374, 0.00...   \n",
       "\n",
       "                                             mean_embs  similarity  \n",
       "294  [-0.047180176, 0.0037441254, 0.0046157837, -0....    0.729533  \n",
       "78   [-0.057739258, -0.013534546, -0.033294678, 0.0...    0.691178  \n",
       "248  [-0.046783447, -0.029159546, -0.057159424, -0....    0.690257  \n",
       "308  [-0.019485474, -0.008132935, -0.032348633, -0....    0.682721  \n",
       "40   [-0.03894043, 0.002981186, 0.002565384, 0.0276...    0.682104  \n",
       "..                                                 ...         ...  \n",
       "244  [-0.07080078, 0.007843018, -0.06738281, -0.064...    0.478474  \n",
       "51   [-0.06359863, -0.009773254, -0.037017822, 0.00...    0.478294  \n",
       "1    [-0.07107544, 0.02129364, -0.04598999, -0.0222...    0.455781  \n",
       "274  [-0.0826416, -0.0054244995, -0.035762787, -0.0...    0.404193  \n",
       "288  [-0.070729576, 0.005051295, -0.034520466, -0.0...    0.367253  \n",
       "\n",
       "[360 rows x 8 columns]"
      ]
     },
     "execution_count": 39,
     "metadata": {},
     "output_type": "execute_result"
    }
   ],
   "source": [
    "df[\"similarity\"] = df[\"mean_embs\"].apply(lambda x: cosine_distance(x,query_embs))\n",
    "df.sort_values(\"similarity\", ascending=False)"
   ]
  },
  {
   "cell_type": "markdown",
   "metadata": {},
   "source": [
    "## Reducing the n-dimensional embedding to 2D for simple scatterplots"
   ]
  },
  {
   "cell_type": "code",
   "execution_count": 11,
   "metadata": {},
   "outputs": [
    {
     "data": {
      "application/vnd.plotly.v1+json": {
       "config": {
        "plotlyServerURL": "https://plot.ly"
       },
       "data": [
        {
         "customdata": [
          [
           "Gaia3D/mago3d"
          ],
          [
           "drolbr/Overpass-API"
          ],
          [
           "kadas-albireo/kadas-albireo"
          ],
          [
           "ranghetti/sen2r"
          ],
          [
           "GeoWebCache/geowebcache"
          ],
          [
           "Unidata/IDV"
          ],
          [
           "Oslandia/SFCGAL"
          ],
          [
           "bjornd/jvectormap"
          ],
          [
           "axismaps/colorbrewer"
          ],
          [
           "chelm/mbtiles-server"
          ],
          [
           "SharpMap/SharpMap"
          ],
          [
           "rspatial/raster"
          ],
          [
           "dnchayes/MB-System"
          ],
          [
           "nextgis/android_maplib"
          ],
          [
           "umap-project/umap"
          ],
          [
           "mapproxy/mapproxy"
          ],
          [
           "rhansson/geotuple"
          ],
          [
           "52North/IlwisCore"
          ],
          [
           "GeoDaCenter/GeoDaSpace"
          ],
          [
           "libspatialindex/libspatialindex"
          ],
          [
           "eoxc/eoxc"
          ],
          [
           "d3/d3"
          ],
          [
           "qgis/qwc2"
          ],
          [
           "georchestra/georchestra"
          ],
          [
           "sahana/eden"
          ],
          [
           "MapServer/tinyows"
          ],
          [
           "qcad/qcad"
          ],
          [
           "Slicer/Slicer"
          ],
          [
           "Toblerity/rtree"
          ],
          [
           "terrestris/shogun-core"
          ],
          [
           "whamlyn/auralib"
          ],
          [
           "PDAL/PDAL"
          ],
          [
           "gisquick/gisquick"
          ],
          [
           "MapServer/mapcache"
          ],
          [
           "ahhz/raster"
          ],
          [
           "emeeks/d3-carto-map"
          ],
          [
           "developmentseed/landsat-util"
          ],
          [
           "geopaparazzi/geopaparazzi"
          ],
          [
           "JuliaGeo/GeoInterface.jl"
          ],
          [
           "lucadelu/pyModis"
          ],
          [
           "dwins/geoscript.scala"
          ],
          [
           "gzuidhof/zarr.js"
          ],
          [
           "girder/girder"
          ],
          [
           "nextgis/android_gisapp"
          ],
          [
           "libLAS/libLAS"
          ],
          [
           "geopaparazzi/smash"
          ],
          [
           "mapillary/OpenSfM"
          ],
          [
           "OSMBuildings/OSMBuildings"
          ],
          [
           "yaph/d3-geomap"
          ],
          [
           "developmentseed/label-maker"
          ],
          [
           "huidian200803/vterrain-VTP-vterrain.org"
          ],
          [
           "MapWindow/MapWindow5"
          ],
          [
           "geopython/pycsw"
          ],
          [
           "opencv/opencv"
          ],
          [
           "domlysz/BlenderGIS"
          ],
          [
           "GeoTIFF/geotiff.io"
          ],
          [
           "gina-alaska/dans-gdal-scripts"
          ],
          [
           "Anagraph/yogrt"
          ],
          [
           "dtarb/TauDEM"
          ],
          [
           "OpenOrienteering/mapper"
          ],
          [
           "geotools/geotools"
          ],
          [
           "geonetwork/core-geonetwork"
          ],
          [
           "geopython/mapslicer"
          ],
          [
           "mapnik/mapnik"
          ],
          [
           "apache/calcite"
          ],
          [
           "ROGUE-JCTD/Arbiter-Android"
          ],
          [
           "KNMI/adaguc-server"
          ],
          [
           "stamen/modestmaps-js"
          ],
          [
           "tyrasd/overpass-turbo"
          ],
          [
           "rstudio/rstudio"
          ],
          [
           "ROGUE-JCTD/rogue_geonode"
          ],
          [
           "developmentseed/sentinel-util"
          ],
          [
           "JamesLMilner/terra-draw"
          ],
          [
           "CGAL/cgal"
          ],
          [
           "mongodb/mongo"
          ],
          [
           "CartoDB/cartodb-postgresql"
          ],
          [
           "geoscript/geoscript-js"
          ],
          [
           "scikit-image/scikit-image"
          ],
          [
           "mapbox/geojson.io"
          ],
          [
           "cartographer-project/cartographer_ros"
          ],
          [
           "cambecc/grib2json"
          ],
          [
           "mapbox/mapbox-gl-native"
          ],
          [
           "chrismattmann/lucene-geo-gazetteer"
          ],
          [
           "pghydro/pghydro"
          ],
          [
           "geoserver/geoserver"
          ],
          [
           "placemark/placemark"
          ],
          [
           "Unidata/thredds"
          ],
          [
           "mapmint/mapmint"
          ],
          [
           "STEMLab/InFactory"
          ],
          [
           "geopython/GeoHealthCheck"
          ],
          [
           "pgRouting/pgrouting"
          ],
          [
           "semiautomaticgit/SemiAutomaticClassificationPlugin"
          ],
          [
           "halestudio/hale"
          ],
          [
           "Esri/wind-js"
          ],
          [
           "dcherian/ncview"
          ],
          [
           "tilemill-project/tilemill"
          ],
          [
           "osm-search/Nominatim"
          ],
          [
           "simplegeo/polymaps"
          ],
          [
           "DOI-USGS/ghsc-esi-shakemap"
          ],
          [
           "geopython/pywps"
          ],
          [
           "GeoWebCache/gwc-release"
          ],
          [
           "deegree/deegree3"
          ],
          [
           "maplibre/martin"
          ],
          [
           "senbox-org/s1tbx"
          ],
          [
           "pemn/vtk_triangulate_points"
          ],
          [
           "openglobus/openglobus"
          ],
          [
           "EOxServer/eoxserver"
          ],
          [
           "stac-utils/pgstac"
          ],
          [
           "openstreetmap/iD"
          ],
          [
           "Reading-eScience-Centre/ncwms"
          ],
          [
           "NetTopologySuite/NetTopologySuite"
          ],
          [
           "ecmwf/eccodes"
          ],
          [
           "mrdoob/three.js"
          ],
          [
           "geoman-io/leaflet-geoman"
          ],
          [
           "LibreCAD/LibreCAD"
          ],
          [
           "google/earthenterprise"
          ],
          [
           "developmentseed/lonboard"
          ],
          [
           "MapServer/MapServer"
          ],
          [
           "locationtech/geogig"
          ],
          [
           "CartoDB/carto.js"
          ],
          [
           "CartoDB/cartodb"
          ],
          [
           "CartoDB/cartoframes"
          ],
          [
           "vega/vega"
          ],
          [
           "nasa-gibs/onearth"
          ],
          [
           "Kitware/ParaView"
          ],
          [
           "orfeotoolbox/OTB"
          ],
          [
           "connormanning/entwine"
          ],
          [
           "geosolutions-it/imageio-ext"
          ],
          [
           "locationtech/udig-platform"
          ],
          [
           "gwaldron/osgearth"
          ],
          [
           "postgis/postgis"
          ],
          [
           "mapcentia/geocloud2"
          ],
          [
           "nsidc/earthaccess"
          ],
          [
           "maproulette/maproulette3"
          ],
          [
           "Geodan/mapbox-3dtiles"
          ],
          [
           "sat-utils/sat-api"
          ],
          [
           "webglearth/webglearth2"
          ],
          [
           "eurostat/GridMaker"
          ],
          [
           "locationtech/jts"
          ],
          [
           "ZOO-Project/ZOO-Project"
          ],
          [
           "OSGeo/PROJ"
          ],
          [
           "Esri/geoportal-server-catalog"
          ],
          [
           "OpenGeoscience/geojs"
          ],
          [
           "opengisch/QField"
          ],
          [
           "matplotlib/matplotlib"
          ],
          [
           "ckan/ckan"
          ],
          [
           "CesiumGS/cesium"
          ],
          [
           "GeoTIFF/geoblaze"
          ],
          [
           "KNMI/adaguc-viewer"
          ],
          [
           "airbusgeo/cogger"
          ],
          [
           "SciTools/cartopy"
          ],
          [
           "Leaflet/Leaflet"
          ],
          [
           "boostorg/geometry"
          ],
          [
           "eco-hydro/TIMESAT.R"
          ],
          [
           "stac-utils/stac-fastapi"
          ],
          [
           "OSGeo/libgeotiff"
          ],
          [
           "riatelab/magrit"
          ],
          [
           "pgpointcloud/pointcloud"
          ],
          [
           "hslayers/hslayers-ng"
          ],
          [
           "verma/plasio"
          ],
          [
           "apache/echarts"
          ],
          [
           "osmcode/pyosmium"
          ],
          [
           "maptalks/maptalks.js"
          ],
          [
           "jjrom/itag"
          ],
          [
           "bjornharrtell/jsts"
          ],
          [
           "mapbox/mapbox-gl-js"
          ],
          [
           "ROGUE-JCTD/MapLoom"
          ],
          [
           "OSGeo/gdal"
          ],
          [
           "davidbyttow/govips"
          ],
          [
           "developmentseed/tifeatures"
          ],
          [
           "VROOM-Project/vroom"
          ],
          [
           "Unidata/netcdf-c"
          ],
          [
           "mmaelicke/scikit-gstat"
          ],
          [
           "orientechnologies/orientdb"
          ],
          [
           "openlayers/openlayers"
          ],
          [
           "fatiando/verde"
          ],
          [
           "pka/qgpkg"
          ],
          [
           "CosmiQ/solaris"
          ],
          [
           "GeoDaCenter/geoda"
          ],
          [
           "geographika/mappyfile"
          ],
          [
           "geosolutions-it/geostore"
          ],
          [
           "apache/incubator-baremaps"
          ],
          [
           "nasa-gibs/worldview"
          ],
          [
           "rstudio/shiny"
          ],
          [
           "TileStache/TileStache"
          ],
          [
           "dwins/mapnik2geotools"
          ],
          [
           "SuperElastix/elastix"
          ],
          [
           "mapillary/mapillary-js"
          ],
          [
           "maputnik/editor"
          ],
          [
           "GeoJSON-Net/GeoJSON.Net"
          ],
          [
           "OpenGeoscience/geonotebook"
          ],
          [
           "OpenGeoVis/PVGeo"
          ],
          [
           "jjrom/resto"
          ],
          [
           "mbloch/mapshaper"
          ],
          [
           "MITK/MITK"
          ],
          [
           "3liz/lizmap-web-client"
          ],
          [
           "apache/sis"
          ],
          [
           "mapbox/osmcha-frontend"
          ],
          [
           "Oslandia/lopocs"
          ],
          [
           "aseldawy/spatialhadoop2"
          ],
          [
           "jblindsay/whitebox-tools"
          ],
          [
           "Unidata/netcdf-java"
          ],
          [
           "visgl/deck.gl"
          ],
          [
           "gltn/stdm"
          ],
          [
           "nasa-jpl-memex/GeoParser"
          ],
          [
           "azavea/raster-vision"
          ],
          [
           "t-rex-tileserver/t-rex"
          ],
          [
           "mapbox/mapboxgl-jupyter"
          ],
          [
           "pgRouting/osm2pgrouting"
          ],
          [
           "eurostat/JGiscoTools"
          ],
          [
           "mapfish/mapfish-print"
          ],
          [
           "maplibre/maplibre-native"
          ],
          [
           "iTowns/itowns"
          ],
          [
           "CosmiQ/yolt"
          ],
          [
           "shapely/shapely"
          ],
          [
           "GeoStat-Framework/PyKrige"
          ],
          [
           "yeesian/ArchGDAL.jl"
          ],
          [
           "mapbox/node-mbtiles"
          ],
          [
           "koopjs/koop"
          ],
          [
           "OSGeo/grass"
          ],
          [
           "Toblerity/Fiona"
          ],
          [
           "Kitware/vtk-js"
          ],
          [
           "geopython/OWSLib"
          ],
          [
           "uclouvain/openjpeg"
          ],
          [
           "developmentseed/morecantile"
          ],
          [
           "Geoyi/pixel-decoder"
          ],
          [
           "sentinel-hub/sentinelhub-py"
          ],
          [
           "geoext/geoext"
          ],
          [
           "arangodb/arangodb"
          ],
          [
           "FreeCAD/FreeCAD"
          ],
          [
           "pysal/tobler"
          ],
          [
           "Reading-eScience-Centre/edal-java"
          ],
          [
           "dmsl/anyplace"
          ],
          [
           "developmentseed/timvt"
          ],
          [
           "TileDB-Inc/TileDB"
          ],
          [
           "geopython/pygeometa"
          ],
          [
           "libgeos/geos"
          ],
          [
           "cgre-aachen/gemgis"
          ],
          [
           "geoserver/geofence"
          ],
          [
           "rasterio/rasterio"
          ],
          [
           "DanBloomberg/leptonica"
          ],
          [
           "ngageoint/mrgeo"
          ],
          [
           "actinia-org/actinia-core"
          ],
          [
           "orbisgis/h2gis"
          ],
          [
           "phayes/geoPHP"
          ],
          [
           "CartoDB/bigmetadata"
          ],
          [
           "UDST/vizicities"
          ],
          [
           "Geomatys/examind-community"
          ],
          [
           "hms-dbmi/viv"
          ],
          [
           "Turfjs/turf"
          ],
          [
           "developmentseed/tipg"
          ],
          [
           "HDFGroup/hdf5"
          ],
          [
           "tangrams/tangram"
          ],
          [
           "sldeditor/sldeditor"
          ],
          [
           "developmentseed/skynet-train"
          ],
          [
           "commaai/laika"
          ],
          [
           "heremaps/harp.gl"
          ],
          [
           "schollz/find"
          ],
          [
           "openstreetmap/osm2pgsql"
          ],
          [
           "MerginMaps/mergin"
          ],
          [
           "geomapfish/getting_started"
          ],
          [
           "geopandas/geopandas"
          ],
          [
           "topojson/topojson"
          ],
          [
           "SciTools/iris"
          ],
          [
           "GenericMappingTools/gmt"
          ],
          [
           "cambecc/earth"
          ],
          [
           "GeoNode/geonode"
          ],
          [
           "mapbox/tile-reduce"
          ],
          [
           "proj4js/proj4js"
          ],
          [
           "zombodb/zombodb"
          ],
          [
           "3dcitydb/3dcitydb"
          ],
          [
           "fegyi001/mangol"
          ],
          [
           "LAStools/LAStools"
          ],
          [
           "MatanYadaev/laravel-eloquent-spatial"
          ],
          [
           "InsightSoftwareConsortium/ITK"
          ],
          [
           "developmentseed/geolambda"
          ],
          [
           "mojodna/tessera"
          ],
          [
           "openscenegraph/OpenSceneGraph"
          ],
          [
           "GIScience/openrouteservice"
          ],
          [
           "tesseract-ocr/tesseract"
          ],
          [
           "cartographer-project/cartographer"
          ],
          [
           "OpendTect/OpendTect"
          ],
          [
           "ngageoint/hootenanny"
          ],
          [
           "timescale/timescaledb"
          ],
          [
           "Project-OSRM/osrm-backend"
          ],
          [
           "pysal/spopt"
          ],
          [
           "birgander2/PyRAT"
          ],
          [
           "harsha2010/magellan"
          ],
          [
           "locationtech/geotrellis"
          ],
          [
           "melowntech/vts-browser-js"
          ],
          [
           "openjump-gis/openjump"
          ],
          [
           "TerriaJS/terriajs"
          ],
          [
           "sduclos/S52"
          ],
          [
           "locationtech/geowave"
          ],
          [
           "tomojitakasu/RTKLIB"
          ],
          [
           "gisgraphy/gisgraphy"
          ],
          [
           "eurostat/eurostat-map.js"
          ],
          [
           "pysal/mapclassify"
          ],
          [
           "locationtech/geomesa"
          ],
          [
           "libvips/libvips"
          ],
          [
           "elastic/elasticsearch"
          ],
          [
           "geosolutions-it/MapStore2"
          ],
          [
           "sentinelsat/sentinelsat"
          ],
          [
           "Factual/geo"
          ],
          [
           "TNOCS/csWeb-tile"
          ],
          [
           "OpenDroneMap/ODM"
          ],
          [
           "radiantearth/stac-api-spec"
          ],
          [
           "rafaqz/Rasters.jl"
          ],
          [
           "MobilityDB/MobilityDB"
          ],
          [
           "CCI-Tools/cate-desktop"
          ],
          [
           "neveldo/jQuery-Mapael"
          ],
          [
           "ropensci/MODIStsp"
          ],
          [
           "valhalla/valhalla"
          ],
          [
           "sogelink-research/ctod"
          ],
          [
           "ImageMagick/ImageMagick"
          ],
          [
           "mapbox/tilelive"
          ],
          [
           "mkeller3/FastGeospatial"
          ],
          [
           "qgis/QGIS"
          ],
          [
           "Esri/cedar"
          ],
          [
           "maplibre/maplibre-gl-js"
          ],
          [
           "geoserver/geoserver-cloud"
          ],
          [
           "cgre-aachen/gempy"
          ],
          [
           "pysal/pysal"
          ],
          [
           "sentinel-hub/eo-learn"
          ],
          [
           "MODFLOW-USGS/modflow6"
          ],
          [
           "52North/helgoland"
          ],
          [
           "apache/sedona"
          ],
          [
           "komoot/photon"
          ],
          [
           "apache/superset"
          ],
          [
           "microsoft/torchgeo"
          ],
          [
           "pelias/pelias"
          ],
          [
           "mapbox/robosat"
          ],
          [
           "grimzy/laravel-mysql-spatial"
          ],
          [
           "cga-harvard/geonode"
          ],
          [
           "pysal/segregation"
          ],
          [
           "apache/doris"
          ],
          [
           "tidwall/tile38"
          ],
          [
           "ossimlabs/ossim"
          ],
          [
           "radiantearth/stac-browser"
          ],
          [
           "geotiffjs/geotiff.js"
          ],
          [
           "e-sensing/sits"
          ],
          [
           "graphhopper/graphhopper"
          ],
          [
           "GeoStat-Framework/GSTools"
          ],
          [
           "Image-Py/imagepy"
          ],
          [
           "movingpandas/movingpandas"
          ],
          [
           "appelmar/gdalcubes"
          ],
          [
           "koopjs/FeatureServer"
          ],
          [
           "potree/potree"
          ],
          [
           "GeostatsGuy/GeostatsPy"
          ],
          [
           "nasa/cumulus-dashboard"
          ],
          [
           "Geodan/pg2b3dm"
          ],
          [
           "pyproj4/pyproj"
          ],
          [
           "52North/SOS"
          ],
          [
           "citusdata/citus"
          ],
          [
           "OpenDroneMap/WebODM"
          ],
          [
           "openvenues/libpostal"
          ],
          [
           "mapbox/Hecate"
          ],
          [
           "questdb/questdb"
          ],
          [
           "neocarto/bertin"
          ],
          [
           "gnss-sdr/gnss-sdr"
          ]
         ],
         "hovertemplate": "x_tsne=%{x}<br>y_tsne=%{y}<br>Repo=%{customdata[0]}<extra></extra>",
         "legendgroup": "",
         "marker": {
          "color": "#636efa",
          "symbol": "circle"
         },
         "mode": "markers",
         "name": "",
         "orientation": "v",
         "showlegend": false,
         "type": "scatter",
         "x": [
          5.396474,
          -5.3039727,
          4.8585715,
          2.4998355,
          -7.056105,
          2.8911726,
          -10.681749,
          -3.618997,
          8.233723,
          2.3109376,
          7.121444,
          -7.550584,
          4.045351,
          -11.035835,
          7.357504,
          -8.488657,
          -0.7671261,
          1.6701185,
          -5.1796618,
          3.5692854,
          -0.4904476,
          7.725958,
          1.48942,
          5.382014,
          4.854237,
          3.1983001,
          9.85087,
          6.573547,
          0.9717183,
          0.101396345,
          3.3972485,
          8.23452,
          1.5462341,
          -8.456476,
          -7.593054,
          7.6150794,
          3.480053,
          4.305827,
          -5.3902,
          2.1074817,
          -6.75744,
          1.3416028,
          5.647672,
          -11.031349,
          -2.2526758,
          -0.8251529,
          -0.58678347,
          7.2906766,
          7.830256,
          -1.721093,
          0.59430003,
          8.34235,
          -3.7884603,
          -6.983113,
          -6.354286,
          -4.325384,
          -2.7291627,
          -1.9995903,
          2.6897469,
          -1.4841955,
          -6.0223994,
          -5.9028735,
          6.5180445,
          9.504576,
          3.9486234,
          -2.1808093,
          7.664326,
          -9.602044,
          -5.3007574,
          8.165913,
          -5.4111896,
          2.1208549,
          0.47844732,
          -10.66099,
          0.8338566,
          1.1821748,
          -5.754633,
          4.2691507,
          -3.5762446,
          5.9533005,
          -4.8500514,
          10.300665,
          -7.048168,
          -2.4246912,
          -5.90116,
          2.280541,
          3.604849,
          -4.5299726,
          0.15120634,
          -4.000199,
          -2.2297366,
          -2.0069935,
          1.2601783,
          -3.9056385,
          -2.3534007,
          1.4508848,
          -2.0198529,
          8.878254,
          0.19437729,
          -3.6902225,
          -7.3595295,
          4.1241627,
          8.083411,
          -9.515897,
          9.56143,
          -0.19629055,
          -5.155787,
          5.336634,
          10.720373,
          0.5865733,
          -8.28002,
          1.5062926,
          -0.058083445,
          -4.1961265,
          9.826739,
          -3.3504817,
          2.5615149,
          -6.7376356,
          -5.0995235,
          6.6979747,
          6.4890714,
          6.326199,
          -0.422955,
          -4.3644586,
          -1.100667,
          4.5383425,
          5.0541167,
          -3.4968758,
          4.6641955,
          4.171497,
          5.219448,
          -3.4323206,
          3.7097208,
          -6.5387616,
          1.7634624,
          3.0203385,
          -3.4092324,
          -4.074665,
          -8.091249,
          -8.1575985,
          -6.282418,
          -2.090846,
          -5.8263755,
          2.2422466,
          4.7256775,
          5.7919636,
          0.12763062,
          -4.957625,
          7.6379766,
          -4.221113,
          5.1752214,
          6.771046,
          -6.5839553,
          6.480496,
          5.225222,
          -4.2184434,
          -1.2325585,
          2.8331218,
          -8.106392,
          3.50512,
          3.6081276,
          -1.9272989,
          6.760951,
          3.9319444,
          -7.9730906,
          10.189736,
          -5.127197,
          8.254726,
          4.9603987,
          3.837792,
          -8.162825,
          3.5021906,
          0.79106545,
          2.3820965,
          6.6312404,
          4.57135,
          1.4681003,
          2.811996,
          -4.7224584,
          3.9842496,
          -4.7396235,
          3.8085124,
          -2.9099915,
          7.9781756,
          2.976028,
          -4.503598,
          -2.1388333,
          8.077143,
          8.930213,
          6.572809,
          -4.1301985,
          -0.9970628,
          -5.7022886,
          7.9079356,
          -1.9506792,
          1.2979708,
          3.1553452,
          -0.13375545,
          5.3590007,
          -3.8693278,
          -1.2978861,
          3.462831,
          6.430593,
          0.490347,
          -7.033934,
          -6.908435,
          2.5099108,
          2.009313,
          -1.9573488,
          -3.6922638,
          -3.0354,
          8.2647505,
          6.660618,
          -1.0815297,
          -0.31021816,
          0.7919598,
          -5.684936,
          2.2142699,
          -2.6595306,
          -0.024912803,
          -3.1857295,
          -1.1205891,
          -3.7385428,
          5.2838726,
          4.0514355,
          -0.4248083,
          2.1345289,
          -2.344792,
          2.2792184,
          9.69207,
          0.8037659,
          0.60153794,
          10.083831,
          2.7667272,
          2.9443662,
          -3.4221904,
          -6.282037,
          2.021039,
          -5.269113,
          -6.8982425,
          -2.048812,
          2.1042614,
          0.9101674,
          -2.8341277,
          -4.4354105,
          2.3443766,
          6.571637,
          -1.5286967,
          -0.6870653,
          6.583945,
          3.773807,
          0.9932752,
          1.1896813,
          6.4300737,
          -0.2169495,
          -0.19545186,
          -1.324617,
          3.2484422,
          -1.5323828,
          0.61876845,
          -3.5295417,
          1.8464609,
          -4.407028,
          4.3252134,
          -0.8502665,
          -3.786273,
          -5.6488614,
          2.6954672,
          -6.170631,
          1.657335,
          1.6653894,
          -1.1168385,
          -2.003105,
          -1.4748471,
          -1.9220262,
          -2.55165,
          2.2321954,
          -0.9891839,
          -1.056302,
          0.8688981,
          5.893705,
          1.0290427,
          -1.1779053,
          1.9984217,
          -0.70592463,
          0.82679075,
          -1.0754058,
          -0.7936684,
          -2.1603746,
          -1.0014248,
          -1.6347241,
          0.31330803,
          0.8497197,
          -4.7741294,
          0.26304874,
          -1.5703186,
          -3.0067544,
          0.40148416,
          -3.1183856,
          -1.0557594,
          -0.34087172,
          -3.9151473,
          2.0656586,
          -4.2062836,
          2.0298188,
          -0.19929047,
          5.135829,
          -6.7335987,
          1.2824929,
          -0.87559396,
          8.165279,
          0.13737689,
          -0.4794591,
          1.3402122,
          -2.3973086,
          2.158983,
          -0.3720809,
          1.2558848,
          3.0375195,
          8.117922,
          -3.9479265,
          1.9967666,
          0.7549357,
          1.9204162,
          0.7525593,
          1.5265589,
          3.2764108,
          -1.9835564,
          3.3501732,
          0.22545986,
          -0.651935,
          -0.46234676,
          -1.4281112,
          -3.7783022,
          0.5580903,
          3.3134007,
          1.9956948,
          -0.98018056,
          5.032834,
          -4.2413273,
          0.5277211,
          -1.2554517,
          0.6457662,
          -0.2688202,
          1.9176093,
          0.30360955,
          -3.1023214,
          5.109978,
          0.5715957,
          -0.21409233,
          1.6868112,
          4.6485033,
          1.5154357,
          2.178899,
          -0.15501417,
          -0.4610414,
          -1.7321912,
          4.722472,
          -3.4787264,
          -0.24359573
         ],
         "xaxis": "x",
         "y": [
          -0.83509535,
          -9.725332,
          -1.5823835,
          -1.736613,
          -1.4321619,
          11.100831,
          1.3600501,
          3.0807343,
          -2.8348744,
          6.194645,
          -3.1426537,
          6.158338,
          -8.559311,
          4.485196,
          -1.2046398,
          -3.6617124,
          -8.529724,
          -1.7416793,
          -5.8382206,
          -1.8063679,
          3.432889,
          -6.570117,
          0.15722756,
          -5.7957296,
          0.4755136,
          2.9281054,
          3.4710417,
          -4.641024,
          -6.8693814,
          0.5744953,
          -6.432776,
          -4.518959,
          -0.23622456,
          -3.6403751,
          5.9848485,
          -7.563997,
          -4.952317,
          -5.130355,
          2.1836612,
          -7.6465673,
          -0.29904118,
          7.3056116,
          -2.7933035,
          4.486482,
          -5.7149625,
          -1.1504487,
          -4.2167597,
          2.926703,
          -7.6639204,
          -2.8495164,
          -10.186646,
          2.0765545,
          -4.8566346,
          7.503701,
          -3.9633157,
          7.3603826,
          -6.7439084,
          -3.4721189,
          -10.047236,
          -0.9768734,
          -1.1624563,
          -1.8735585,
          -4.8165326,
          0.2847893,
          -0.17263913,
          -1.842762,
          8.287008,
          -0.292127,
          -9.70845,
          5.338453,
          -2.6378665,
          -3.2099564,
          5.482337,
          1.3602381,
          2.0585845,
          2.7305136,
          -0.3431588,
          -2.6037498,
          0.18884228,
          -3.6458993,
          3.5354745,
          0.5278661,
          -7.221939,
          5.314766,
          -1.3295592,
          8.056289,
          11.236145,
          -3.7176218,
          7.8297706,
          -0.6537185,
          4.8715243,
          -4.404382,
          -8.68022,
          4.282311,
          -9.510156,
          4.9177995,
          2.6301332,
          -1.4163339,
          -7.712663,
          -4.7950854,
          -1.7556852,
          3.4833944,
          0.93501383,
          -2.0964167,
          -6.28206,
          4.974019,
          -4.5957427,
          7.4268208,
          -1.630485,
          11.727607,
          3.1149867,
          9.132561,
          6.165043,
          2.6597025,
          3.456441,
          -1.4430926,
          -5.5537887,
          -2.7449577,
          -0.37352648,
          -8.048623,
          -8.132472,
          -8.148279,
          8.883109,
          4.8226223,
          -10.115417,
          -6.6716337,
          3.0742657,
          8.523037,
          5.468569,
          4.4711366,
          4.3741493,
          -0.7123156,
          -3.4273682,
          -5.111829,
          4.0208654,
          -2.5867252,
          4.927309,
          1.1546705,
          3.0737157,
          -0.11082161,
          3.8630898,
          1.1503811,
          0.49336666,
          0.06055493,
          -2.2854872,
          -1.7882797,
          5.0145454,
          8.013046,
          8.28265,
          6.819627,
          -4.212542,
          -1.7459692,
          1.4610643,
          5.584357,
          7.3945737,
          7.3551335,
          -2.0593522,
          2.1813715,
          1.2505249,
          8.220571,
          0.32984638,
          3.7736669,
          -0.3242625,
          2.5621135,
          3.11355,
          0.48964694,
          -2.665179,
          -4.642537,
          -0.47217694,
          1.6182586,
          -5.485503,
          11.193528,
          -4.3898554,
          1.5167468,
          -0.55576533,
          -0.36859772,
          -0.15472083,
          -3.783989,
          0.19076568,
          -4.7949305,
          -1.1740115,
          -0.24479175,
          -3.4722736,
          4.8178964,
          5.7521033,
          -1.8532146,
          7.475497,
          -0.6149303,
          0.23896067,
          0.8622692,
          -2.3892632,
          -10.030311,
          5.406997,
          -2.6964047,
          7.344942,
          -0.08053065,
          -0.9390285,
          4.0404572,
          2.5502734,
          -6.1932344,
          -4.061638,
          11.200317,
          -0.4611745,
          3.2722416,
          -7.2031617,
          6.9287195,
          4.0319285,
          -6.492547,
          4.376986,
          1.1219212,
          -2.2525268,
          0.15326184,
          1.9256226,
          -3.267091,
          -6.312972,
          -5.0131626,
          2.4487092,
          5.5394597,
          1.3776078,
          1.8304961,
          -8.010657,
          6.7411146,
          -4.167128,
          1.2795609,
          1.3156747,
          -2.983873,
          -3.0825381,
          -0.3812804,
          1.4509213,
          3.3295624,
          -5.817275,
          11.730565,
          -3.7306998,
          3.769027,
          4.530842,
          -3.0480804,
          1.3307098,
          -4.4833746,
          -1.3416932,
          6.6009283,
          9.354667,
          -0.6327073,
          -2.275537,
          0.28940272,
          -7.245918,
          2.438522,
          2.7199101,
          1.9548495,
          8.340411,
          0.39599428,
          1.9171482,
          0.94611424,
          6.128493,
          4.1397805,
          -2.7836626,
          -1.8267529,
          0.88464695,
          -7.5650206,
          3.8807828,
          -0.16092074,
          -2.2123334,
          -5.5460625,
          1.8704158,
          -3.4388018,
          -1.6572036,
          4.217187,
          -1.6233054,
          5.5253873,
          3.8540986,
          1.8780835,
          2.9778714,
          4.9682417,
          -5.453242,
          -7.2980266,
          7.3013015,
          -1.4004579,
          5.3841567,
          3.7383034,
          0.09888674,
          0.9239778,
          -3.625212,
          0.9332017,
          1.4638267,
          1.9784851,
          -0.055374335,
          -5.607567,
          -4.9908776,
          -6.1062756,
          -0.042256046,
          6.336663,
          0.06256352,
          4.4969625,
          -0.8901379,
          -0.7668089,
          -0.79406524,
          -0.6969847,
          2.4456177,
          -6.120874,
          -0.6051826,
          8.431987,
          1.3519754,
          -1.5540621,
          -2.7835326,
          1.7348611,
          5.0222936,
          2.706346,
          7.280904,
          5.929321,
          2.170287,
          2.6340451,
          -0.8107191,
          -1.6724522,
          -0.37396988,
          4.117604,
          8.88314,
          5.215092,
          -5.261395,
          -0.06380121,
          0.9072171,
          0.054471962,
          -0.80738395,
          -4.5430818,
          -5.5625753,
          -3.073169,
          -1.3585005,
          -1.6230223,
          -0.6682002,
          2.1214647,
          -0.33246756,
          -3.519924,
          0.67775923,
          -2.97059,
          -7.2222977,
          -1.8483416,
          -5.5354147,
          -0.29828048,
          3.6811707,
          3.6453664,
          7.2095814,
          7.2957172,
          -2.973552,
          -0.5712619,
          -4.2487087,
          -4.155235,
          -5.4956174,
          -3.1510534,
          1.9031799,
          2.3872368,
          -4.4864583,
          2.5682425,
          3.7413883,
          -1.4890555,
          -1.6089859,
          1.9927019,
          2.67243,
          -0.43832207,
          1.4384725,
          -1.2246016,
          2.318114,
          -0.95200026
         ],
         "yaxis": "y"
        }
       ],
       "layout": {
        "legend": {
         "tracegroupgap": 0
        },
        "template": {
         "data": {
          "bar": [
           {
            "error_x": {
             "color": "#2a3f5f"
            },
            "error_y": {
             "color": "#2a3f5f"
            },
            "marker": {
             "line": {
              "color": "#E5ECF6",
              "width": 0.5
             },
             "pattern": {
              "fillmode": "overlay",
              "size": 10,
              "solidity": 0.2
             }
            },
            "type": "bar"
           }
          ],
          "barpolar": [
           {
            "marker": {
             "line": {
              "color": "#E5ECF6",
              "width": 0.5
             },
             "pattern": {
              "fillmode": "overlay",
              "size": 10,
              "solidity": 0.2
             }
            },
            "type": "barpolar"
           }
          ],
          "carpet": [
           {
            "aaxis": {
             "endlinecolor": "#2a3f5f",
             "gridcolor": "white",
             "linecolor": "white",
             "minorgridcolor": "white",
             "startlinecolor": "#2a3f5f"
            },
            "baxis": {
             "endlinecolor": "#2a3f5f",
             "gridcolor": "white",
             "linecolor": "white",
             "minorgridcolor": "white",
             "startlinecolor": "#2a3f5f"
            },
            "type": "carpet"
           }
          ],
          "choropleth": [
           {
            "colorbar": {
             "outlinewidth": 0,
             "ticks": ""
            },
            "type": "choropleth"
           }
          ],
          "contour": [
           {
            "colorbar": {
             "outlinewidth": 0,
             "ticks": ""
            },
            "colorscale": [
             [
              0,
              "#0d0887"
             ],
             [
              0.1111111111111111,
              "#46039f"
             ],
             [
              0.2222222222222222,
              "#7201a8"
             ],
             [
              0.3333333333333333,
              "#9c179e"
             ],
             [
              0.4444444444444444,
              "#bd3786"
             ],
             [
              0.5555555555555556,
              "#d8576b"
             ],
             [
              0.6666666666666666,
              "#ed7953"
             ],
             [
              0.7777777777777778,
              "#fb9f3a"
             ],
             [
              0.8888888888888888,
              "#fdca26"
             ],
             [
              1,
              "#f0f921"
             ]
            ],
            "type": "contour"
           }
          ],
          "contourcarpet": [
           {
            "colorbar": {
             "outlinewidth": 0,
             "ticks": ""
            },
            "type": "contourcarpet"
           }
          ],
          "heatmap": [
           {
            "colorbar": {
             "outlinewidth": 0,
             "ticks": ""
            },
            "colorscale": [
             [
              0,
              "#0d0887"
             ],
             [
              0.1111111111111111,
              "#46039f"
             ],
             [
              0.2222222222222222,
              "#7201a8"
             ],
             [
              0.3333333333333333,
              "#9c179e"
             ],
             [
              0.4444444444444444,
              "#bd3786"
             ],
             [
              0.5555555555555556,
              "#d8576b"
             ],
             [
              0.6666666666666666,
              "#ed7953"
             ],
             [
              0.7777777777777778,
              "#fb9f3a"
             ],
             [
              0.8888888888888888,
              "#fdca26"
             ],
             [
              1,
              "#f0f921"
             ]
            ],
            "type": "heatmap"
           }
          ],
          "heatmapgl": [
           {
            "colorbar": {
             "outlinewidth": 0,
             "ticks": ""
            },
            "colorscale": [
             [
              0,
              "#0d0887"
             ],
             [
              0.1111111111111111,
              "#46039f"
             ],
             [
              0.2222222222222222,
              "#7201a8"
             ],
             [
              0.3333333333333333,
              "#9c179e"
             ],
             [
              0.4444444444444444,
              "#bd3786"
             ],
             [
              0.5555555555555556,
              "#d8576b"
             ],
             [
              0.6666666666666666,
              "#ed7953"
             ],
             [
              0.7777777777777778,
              "#fb9f3a"
             ],
             [
              0.8888888888888888,
              "#fdca26"
             ],
             [
              1,
              "#f0f921"
             ]
            ],
            "type": "heatmapgl"
           }
          ],
          "histogram": [
           {
            "marker": {
             "pattern": {
              "fillmode": "overlay",
              "size": 10,
              "solidity": 0.2
             }
            },
            "type": "histogram"
           }
          ],
          "histogram2d": [
           {
            "colorbar": {
             "outlinewidth": 0,
             "ticks": ""
            },
            "colorscale": [
             [
              0,
              "#0d0887"
             ],
             [
              0.1111111111111111,
              "#46039f"
             ],
             [
              0.2222222222222222,
              "#7201a8"
             ],
             [
              0.3333333333333333,
              "#9c179e"
             ],
             [
              0.4444444444444444,
              "#bd3786"
             ],
             [
              0.5555555555555556,
              "#d8576b"
             ],
             [
              0.6666666666666666,
              "#ed7953"
             ],
             [
              0.7777777777777778,
              "#fb9f3a"
             ],
             [
              0.8888888888888888,
              "#fdca26"
             ],
             [
              1,
              "#f0f921"
             ]
            ],
            "type": "histogram2d"
           }
          ],
          "histogram2dcontour": [
           {
            "colorbar": {
             "outlinewidth": 0,
             "ticks": ""
            },
            "colorscale": [
             [
              0,
              "#0d0887"
             ],
             [
              0.1111111111111111,
              "#46039f"
             ],
             [
              0.2222222222222222,
              "#7201a8"
             ],
             [
              0.3333333333333333,
              "#9c179e"
             ],
             [
              0.4444444444444444,
              "#bd3786"
             ],
             [
              0.5555555555555556,
              "#d8576b"
             ],
             [
              0.6666666666666666,
              "#ed7953"
             ],
             [
              0.7777777777777778,
              "#fb9f3a"
             ],
             [
              0.8888888888888888,
              "#fdca26"
             ],
             [
              1,
              "#f0f921"
             ]
            ],
            "type": "histogram2dcontour"
           }
          ],
          "mesh3d": [
           {
            "colorbar": {
             "outlinewidth": 0,
             "ticks": ""
            },
            "type": "mesh3d"
           }
          ],
          "parcoords": [
           {
            "line": {
             "colorbar": {
              "outlinewidth": 0,
              "ticks": ""
             }
            },
            "type": "parcoords"
           }
          ],
          "pie": [
           {
            "automargin": true,
            "type": "pie"
           }
          ],
          "scatter": [
           {
            "fillpattern": {
             "fillmode": "overlay",
             "size": 10,
             "solidity": 0.2
            },
            "type": "scatter"
           }
          ],
          "scatter3d": [
           {
            "line": {
             "colorbar": {
              "outlinewidth": 0,
              "ticks": ""
             }
            },
            "marker": {
             "colorbar": {
              "outlinewidth": 0,
              "ticks": ""
             }
            },
            "type": "scatter3d"
           }
          ],
          "scattercarpet": [
           {
            "marker": {
             "colorbar": {
              "outlinewidth": 0,
              "ticks": ""
             }
            },
            "type": "scattercarpet"
           }
          ],
          "scattergeo": [
           {
            "marker": {
             "colorbar": {
              "outlinewidth": 0,
              "ticks": ""
             }
            },
            "type": "scattergeo"
           }
          ],
          "scattergl": [
           {
            "marker": {
             "colorbar": {
              "outlinewidth": 0,
              "ticks": ""
             }
            },
            "type": "scattergl"
           }
          ],
          "scattermapbox": [
           {
            "marker": {
             "colorbar": {
              "outlinewidth": 0,
              "ticks": ""
             }
            },
            "type": "scattermapbox"
           }
          ],
          "scatterpolar": [
           {
            "marker": {
             "colorbar": {
              "outlinewidth": 0,
              "ticks": ""
             }
            },
            "type": "scatterpolar"
           }
          ],
          "scatterpolargl": [
           {
            "marker": {
             "colorbar": {
              "outlinewidth": 0,
              "ticks": ""
             }
            },
            "type": "scatterpolargl"
           }
          ],
          "scatterternary": [
           {
            "marker": {
             "colorbar": {
              "outlinewidth": 0,
              "ticks": ""
             }
            },
            "type": "scatterternary"
           }
          ],
          "surface": [
           {
            "colorbar": {
             "outlinewidth": 0,
             "ticks": ""
            },
            "colorscale": [
             [
              0,
              "#0d0887"
             ],
             [
              0.1111111111111111,
              "#46039f"
             ],
             [
              0.2222222222222222,
              "#7201a8"
             ],
             [
              0.3333333333333333,
              "#9c179e"
             ],
             [
              0.4444444444444444,
              "#bd3786"
             ],
             [
              0.5555555555555556,
              "#d8576b"
             ],
             [
              0.6666666666666666,
              "#ed7953"
             ],
             [
              0.7777777777777778,
              "#fb9f3a"
             ],
             [
              0.8888888888888888,
              "#fdca26"
             ],
             [
              1,
              "#f0f921"
             ]
            ],
            "type": "surface"
           }
          ],
          "table": [
           {
            "cells": {
             "fill": {
              "color": "#EBF0F8"
             },
             "line": {
              "color": "white"
             }
            },
            "header": {
             "fill": {
              "color": "#C8D4E3"
             },
             "line": {
              "color": "white"
             }
            },
            "type": "table"
           }
          ]
         },
         "layout": {
          "annotationdefaults": {
           "arrowcolor": "#2a3f5f",
           "arrowhead": 0,
           "arrowwidth": 1
          },
          "autotypenumbers": "strict",
          "coloraxis": {
           "colorbar": {
            "outlinewidth": 0,
            "ticks": ""
           }
          },
          "colorscale": {
           "diverging": [
            [
             0,
             "#8e0152"
            ],
            [
             0.1,
             "#c51b7d"
            ],
            [
             0.2,
             "#de77ae"
            ],
            [
             0.3,
             "#f1b6da"
            ],
            [
             0.4,
             "#fde0ef"
            ],
            [
             0.5,
             "#f7f7f7"
            ],
            [
             0.6,
             "#e6f5d0"
            ],
            [
             0.7,
             "#b8e186"
            ],
            [
             0.8,
             "#7fbc41"
            ],
            [
             0.9,
             "#4d9221"
            ],
            [
             1,
             "#276419"
            ]
           ],
           "sequential": [
            [
             0,
             "#0d0887"
            ],
            [
             0.1111111111111111,
             "#46039f"
            ],
            [
             0.2222222222222222,
             "#7201a8"
            ],
            [
             0.3333333333333333,
             "#9c179e"
            ],
            [
             0.4444444444444444,
             "#bd3786"
            ],
            [
             0.5555555555555556,
             "#d8576b"
            ],
            [
             0.6666666666666666,
             "#ed7953"
            ],
            [
             0.7777777777777778,
             "#fb9f3a"
            ],
            [
             0.8888888888888888,
             "#fdca26"
            ],
            [
             1,
             "#f0f921"
            ]
           ],
           "sequentialminus": [
            [
             0,
             "#0d0887"
            ],
            [
             0.1111111111111111,
             "#46039f"
            ],
            [
             0.2222222222222222,
             "#7201a8"
            ],
            [
             0.3333333333333333,
             "#9c179e"
            ],
            [
             0.4444444444444444,
             "#bd3786"
            ],
            [
             0.5555555555555556,
             "#d8576b"
            ],
            [
             0.6666666666666666,
             "#ed7953"
            ],
            [
             0.7777777777777778,
             "#fb9f3a"
            ],
            [
             0.8888888888888888,
             "#fdca26"
            ],
            [
             1,
             "#f0f921"
            ]
           ]
          },
          "colorway": [
           "#636efa",
           "#EF553B",
           "#00cc96",
           "#ab63fa",
           "#FFA15A",
           "#19d3f3",
           "#FF6692",
           "#B6E880",
           "#FF97FF",
           "#FECB52"
          ],
          "font": {
           "color": "#2a3f5f"
          },
          "geo": {
           "bgcolor": "white",
           "lakecolor": "white",
           "landcolor": "#E5ECF6",
           "showlakes": true,
           "showland": true,
           "subunitcolor": "white"
          },
          "hoverlabel": {
           "align": "left"
          },
          "hovermode": "closest",
          "mapbox": {
           "style": "light"
          },
          "paper_bgcolor": "white",
          "plot_bgcolor": "#E5ECF6",
          "polar": {
           "angularaxis": {
            "gridcolor": "white",
            "linecolor": "white",
            "ticks": ""
           },
           "bgcolor": "#E5ECF6",
           "radialaxis": {
            "gridcolor": "white",
            "linecolor": "white",
            "ticks": ""
           }
          },
          "scene": {
           "xaxis": {
            "backgroundcolor": "#E5ECF6",
            "gridcolor": "white",
            "gridwidth": 2,
            "linecolor": "white",
            "showbackground": true,
            "ticks": "",
            "zerolinecolor": "white"
           },
           "yaxis": {
            "backgroundcolor": "#E5ECF6",
            "gridcolor": "white",
            "gridwidth": 2,
            "linecolor": "white",
            "showbackground": true,
            "ticks": "",
            "zerolinecolor": "white"
           },
           "zaxis": {
            "backgroundcolor": "#E5ECF6",
            "gridcolor": "white",
            "gridwidth": 2,
            "linecolor": "white",
            "showbackground": true,
            "ticks": "",
            "zerolinecolor": "white"
           }
          },
          "shapedefaults": {
           "line": {
            "color": "#2a3f5f"
           }
          },
          "ternary": {
           "aaxis": {
            "gridcolor": "white",
            "linecolor": "white",
            "ticks": ""
           },
           "baxis": {
            "gridcolor": "white",
            "linecolor": "white",
            "ticks": ""
           },
           "bgcolor": "#E5ECF6",
           "caxis": {
            "gridcolor": "white",
            "linecolor": "white",
            "ticks": ""
           }
          },
          "title": {
           "x": 0.05
          },
          "xaxis": {
           "automargin": true,
           "gridcolor": "white",
           "linecolor": "white",
           "ticks": "",
           "title": {
            "standoff": 15
           },
           "zerolinecolor": "white",
           "zerolinewidth": 2
          },
          "yaxis": {
           "automargin": true,
           "gridcolor": "white",
           "linecolor": "white",
           "ticks": "",
           "title": {
            "standoff": 15
           },
           "zerolinecolor": "white",
           "zerolinewidth": 2
          }
         }
        },
        "title": {
         "text": "t-SNE 2D Visualization with Tooltips"
        },
        "xaxis": {
         "anchor": "y",
         "domain": [
          0,
          1
         ],
         "title": {
          "text": "x_tsne"
         }
        },
        "yaxis": {
         "anchor": "x",
         "domain": [
          0,
          1
         ],
         "title": {
          "text": "y_tsne"
         }
        }
       }
      }
     },
     "metadata": {},
     "output_type": "display_data"
    }
   ],
   "source": [
    "import numpy as np\n",
    "import pandas as pd\n",
    "import plotly.express as px\n",
    "from sklearn.manifold import TSNE\n",
    "\n",
    "# Assuming your DataFrame is named 'df' and the embeddings are in the 'mean_embs' column\n",
    "# Convert the 'mean_embs' column to a 2D NumPy array\n",
    "embeddings = np.array(df['mean_embs'].tolist())  # Convert list of lists to a 2D array\n",
    "\n",
    "# Initialize t-SNE with 2 dimensions\n",
    "tsne = TSNE(n_components=2, random_state=42)\n",
    "\n",
    "# Reduce embeddings to 2 dimensions\n",
    "embeddings_2d = tsne.fit_transform(embeddings)\n",
    "\n",
    "# Write the 2D t-SNE results back to the DataFrame\n",
    "df['x_tsne'] = embeddings_2d[:, 0]  # First dimension (x)\n",
    "df['y_tsne'] = embeddings_2d[:, 1]  # Second dimension (y)\n",
    "\n",
    "# Now, use Plotly to create an interactive scatter plot with tooltips\n",
    "# We can display additional columns (e.g., 'similarity') on hover\n",
    "fig = px.scatter(\n",
    "    df, \n",
    "    x='x_tsne', \n",
    "    y='y_tsne', \n",
    "    hover_data=['Repo'],  # Display 'similarity' column in the tooltip\n",
    "    title='t-SNE 2D Visualization with Tooltips'#,\n",
    "    #labels={'x_tsne': 'Dimension 1 (x)', 'y_tsne': 'Dimension 2 (y)'}\n",
    "    #height=1000,  # Set custom height (in pixels)\n",
    "    #width=900 \n",
    ")\n",
    "\n",
    "# Show the figure with interactive tooltips\n",
    "fig.show()\n"
   ]
  },
  {
   "cell_type": "code",
   "execution_count": 12,
   "metadata": {},
   "outputs": [],
   "source": [
    "import plotly.io as pio\n",
    "# Export the figure as a standalone HTML file\n",
    "pio.write_html(fig, file='index.html', auto_open=True)\n"
   ]
  },
  {
   "cell_type": "markdown",
   "metadata": {},
   "source": [
    "## Alternative for plotly"
   ]
  },
  {
   "cell_type": "code",
   "execution_count": 51,
   "metadata": {},
   "outputs": [
    {
     "data": {
      "application/vnd.jupyter.widget-view+json": {
       "model_id": "d04d32146ce648f8a27ed35abdc2ec6a",
       "version_major": 2,
       "version_minor": 0
      },
      "text/plain": [
       "HBox(children=(VBox(children=(Button(button_style='primary', icon='arrows', layout=Layout(width='36px'), style…"
      ]
     },
     "execution_count": 51,
     "metadata": {},
     "output_type": "execute_result"
    }
   ],
   "source": [
    "import jscatter\n",
    "jscatter.plot(data=df, x='x_tsne', y='y_tsne')"
   ]
  }
 ],
 "metadata": {
  "kernelspec": {
   "display_name": "py3.11",
   "language": "python",
   "name": "python3"
  },
  "language_info": {
   "codemirror_mode": {
    "name": "ipython",
    "version": 3
   },
   "file_extension": ".py",
   "mimetype": "text/x-python",
   "name": "python",
   "nbconvert_exporter": "python",
   "pygments_lexer": "ipython3",
   "version": "3.11.9"
  }
 },
 "nbformat": 4,
 "nbformat_minor": 2
}
